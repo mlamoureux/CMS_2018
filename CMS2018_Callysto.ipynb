{
 "cells": [
  {
   "cell_type": "markdown",
   "metadata": {
    "slideshow": {
     "slide_type": "slide"
    }
   },
   "source": [
    "# <center> Callysto Project: </center>\n",
    "#### <center> An educational resource for </center> <center> data analytics and computational thinking </center>\n",
    "\n",
    "### <center> R. Hoshino, B. Klaff, M. Lamoureux </center>\n",
    "\n",
    "#### <center> CMS 2018 - Vancouver </center>"
   ]
  },
  {
   "cell_type": "code",
   "execution_count": 1,
   "metadata": {
    "slideshow": {
     "slide_type": "skip"
    }
   },
   "outputs": [],
   "source": [
    "%matplotlib inline\n",
    "from numpy import *\n",
    "from matplotlib.pyplot import *\n",
    "import matplotlib.animation as animation\n",
    "from IPython.display import HTML\n",
    "\n",
    "\n"
   ]
  },
  {
   "cell_type": "markdown",
   "metadata": {
    "slideshow": {
     "slide_type": "slide"
    }
   },
   "source": [
    "## Outline\n",
    "\n",
    "1. Jupyter notebooks\n",
    "2. CanCode Initiative\n",
    "3. Computational Thinking\n",
    "4. Callysto Project with Jupyter\n",
    "5. Call to Action\n"
   ]
  },
  {
   "cell_type": "markdown",
   "metadata": {
    "slideshow": {
     "slide_type": "slide"
    }
   },
   "source": [
    "## What is a Jupyter notebook?"
   ]
  },
  {
   "cell_type": "markdown",
   "metadata": {
    "slideshow": {
     "slide_type": "fragment"
    }
   },
   "source": [
    "1. A broswer-based document."
   ]
  },
  {
   "cell_type": "markdown",
   "metadata": {
    "slideshow": {
     "slide_type": "fragment"
    }
   },
   "source": [
    "2. Text, Latex, graphics, multimedia, live code."
   ]
  },
  {
   "cell_type": "markdown",
   "metadata": {
    "slideshow": {
     "slide_type": "fragment"
    }
   },
   "source": [
    "3. Easily sharable, modifiable, usable. "
   ]
  },
  {
   "cell_type": "markdown",
   "metadata": {
    "slideshow": {
     "slide_type": "slide"
    }
   },
   "source": [
    "### LaTeX: Einstein's most famous formula\n",
    "$$ E = mc^2 $$"
   ]
  },
  {
   "cell_type": "markdown",
   "metadata": {
    "slideshow": {
     "slide_type": "notes"
    }
   },
   "source": [
    "Next fragment, we can edit Einstein's equation directly, to fix his \"blunder.\""
   ]
  },
  {
   "cell_type": "markdown",
   "metadata": {
    "slideshow": {
     "slide_type": "fragment"
    }
   },
   "source": [
    "### Also, \"The biggest blunder of my life.\"\n",
    "\n",
    "$$ R_{\\mu \\nu} - \\frac{1}{2} R g_{\\mu \\nu}   + \\Lambda g_{\\mu \\nu} \n",
    "= \\frac{8\\pi G}{c^4} T_{\\mu \\nu}.$$"
   ]
  },
  {
   "cell_type": "markdown",
   "metadata": {
    "slideshow": {
     "slide_type": "slide"
    }
   },
   "source": [
    "## Graphics: plots and animation "
   ]
  },
  {
   "cell_type": "code",
   "execution_count": 2,
   "metadata": {
    "slideshow": {
     "slide_type": "skip"
    }
   },
   "outputs": [
    {
     "data": {
      "image/png": "[encoded data removed]",
      "text/plain": [
       "<Figure size 432x288 with 1 Axes>"
      ]
     },
     "metadata": {
      "needs_background": "light"
     },
     "output_type": "display_data"
    }
   ],
   "source": [
    "fig, ax = subplots()\n",
    "\n",
    "x = linspace(0, 2*pi, 100)\n",
    "line, = ax.plot(x, sin(x));\n",
    "\n",
    "\n",
    "def init():  # only required for blitting to give a clean slate.\n",
    "    line.set_ydata([np.nan] * len(x))\n",
    "    return line,\n",
    "\n",
    "\n",
    "def animate(i):\n",
    "    line.set_ydata(sin(x + 2*pi*i / 100))  # update the data.\n",
    "    return line,\n"
   ]
  },
  {
   "cell_type": "code",
   "execution_count": 3,
   "metadata": {
    "slideshow": {
     "slide_type": "skip"
    }
   },
   "outputs": [],
   "source": [
    "ani = animation.FuncAnimation(\n",
    "    fig, animate, init_func=init, interval=20, blit=True, save_count=100) "
   ]
  },
  {
   "cell_type": "code",
   "execution_count": 4,
   "metadata": {
    "slideshow": {
     "slide_type": "fragment"
    }
   },
   "outputs": [
    {
     "data": {
      "text/html": [
       "<video width=\"432\" height=\"288\" controls autoplay loop>\n",
       "  <source type=\"video/mp4\" src=\"data:video/mp4;base64,AAAAHGZ0eXBNNFYgAAACAGlzb21pc28yYXZjMQAAAAhmcmVlAABVjW1kYXQAAAKgBgX//5zcRem9\n",
       "5tlIt5Ys2CDZI+7veDI2NCAtIGNvcmUgMTQ4IC0gSC4yNjQvTVBFRy00IEFWQyBjb2RlYyAtIENv\n",
       "cHlsZWZ0IDIwMDMtMjAxNiAtIGh0dHA6Ly93d3cudmlkZW9sYW4ub3JnL3gyNjQuaHRtbCAtIG9w\n",
       "dGlvbnM6IGNhYmFjPTEgcmVmPTMgZGVibG9jaz0xOjA6MCBhbmFseXNlPTB4MzoweDExMyBtZT1o\n",
       "ZXggc3VibWU9NyBwc3k9MSBwc3lfcmQ9MS4wMDowLjAwIG1peGVkX3JlZj0xIG1lX3JhbmdlPTE2\n",
       "IGNocm9tYV9tZT0xIHRyZWxsaXM9MSA4eDhkY3Q9MSBjcW09MCBkZWFkem9uZT0yMSwxMSBmYXN0\n",
       "X3Bza2lwPTEgY2hyb21hX3FwX29mZnNldD0tMiB0aHJlYWRzPTYgbG9va2FoZWFkX3RocmVhZHM9\n",
       "MSBzbGljZWRfdGhyZWFkcz0wIG5yPTAgZGVjaW1hdGU9MSBpbnRlcmxhY2VkPTAgYmx1cmF5X2Nv\n",
       "bXBhdD0wIGNvbnN0cmFpbmVkX2ludHJhPTAgYmZyYW1lcz0zIGJfcHlyYW1pZD0yIGJfYWRhcHQ9\n",
       "MSBiX2JpYXM9MCBkaXJlY3Q9MSB3ZWlnaHRiPTEgb3Blbl9nb3A9MCB3ZWlnaHRwPTIga2V5aW50\n",
       "PTI1MCBrZXlpbnRfbWluPTI1IHNjZW5lY3V0PTQwIGludHJhX3JlZnJlc2g9MCByY19sb29rYWhl\n",
       "YWQ9NDAgcmM9Y3JmIG1idHJlZT0xIGNyZj0yMy4wIHFjb21wPTAuNjAgcXBtaW49MCBxcG1heD02\n",
       "OSBxcHN0ZXA9NCBpcF9yYXRpbz0xLjQwIGFxPTE6MS4wMACAAAAQNGWIhAAr//72c3wKa0czlS4F\n",
       "dvdmo+XQkuX7EGD60AAAAwABqtOyDKUmrEd9AAA8j5wUH38AER3ZPETkY6Aa2b+OCdI9N+1fKgfV\n",
       "1oo7USBgxn6anZPC5AFSHNBN3XjM+Sq9rdwy2KBBxB/Gp1Sk2CsScMv64EebQQ3YdcwL0eC70xOk\n",
       "98uh4ts32nn3VOLeo2oLhb5FyvmtvGut/PC8HdEqrpUq05SyqF03nEUgDtcJtAvywZI4nUgOs0Y7\n",
       "FqpyxuGaNwRnxpTaTXMf0EYxqPa4w94m21Od9t4cU29XWcBHK4hxTpcGO6mMp1j87Qn+bfTjF1fI\n",
       "V/yF/NDW3IfhRR/MH3VLGRniHhdKEpS2ZudJRexoTj7yAfF1fYn2gym5e/uhyFqyHjEfzDCK9Oz6\n",
       "5TgKMdMvp+lgH+Y2nSodphvEadi1Sfj5spYCPIg9ydsOfl9/bmzszAylrHO7qysDYT1Y213zEarq\n",
       "51VMs4stdGZDI44FrIcopzrlmqxj8V+0OMlLdSZ4brFPQt+kNvyHANRLNqYFs0R09glx7kKeveSv\n",
       "aZJxvQnFIp+hwS2cP663/1Dwp6OqFW/M5porM7+vq1mlsPocX0ghoCbgb4hV/e2kMdC6oXWmbOKI\n",
       "2+oGEO+1jNJsyvrdYYIQ1s9nptlu+82eaoxhIi4Nn8jWTYcKCfykrSLjgSHuL3DrskjMOowElq0C\n",
       "KJofl6tReF47aUbDssjv2o53Kp97p3HiUzt15JJK9eEKn1ugi3TLJ8//nI9/hNrlWaeUu+0mG6Du\n",
       "piEB+lx1Fsibv8hFBLn4IZW+H5O9ES1LFDVXDzkfC6J6kUnmNe/N9SjjAp+GZ/LT48TRLZYcueKA\n",
       "ufHhPcdJtNJKKJ80n0mGCZd0s204mloNjnjYmC1z/lok53ui1kqEKlIn8chpyBjANZd0sKTG9Os0\n",
       "MebbeoJj42DO37PXcDzT62nsUVE3MWGRVcKu8DPZfl7cGL+pl2Vgtw1MSlIxi7JcXV63m0KmkFzu\n",
       "jSQKprqUXGJAVUNeZxNcU4Y92v/2AiUBG8FUCMXd+94HVO6zIvue5w8k2QFP6qAArWQvhJ0PR8a9\n",
       "JoABKczFskD+fN0YJ6XfxBLwWXd8Xx5piakOqoe+hRg0+lC9wZkr/7//Rg7YaV+CWfY9d4QPiJCH\n",
       "uD4UN5m5KzSKURDQuDlRXQK+i184qNbo6ueSG33wRCDKuYKqeu7meaOHno1mkoGc8EY3rLPS92Zc\n",
       "dwtfRWCOARPpWU2tm2Pi0IkAPfbjqFKSt/CrFMyXkJFXK/3j+eOxX4VfnsNsuABwAjzKrPzPvCRT\n",
       "BlcBsLTaqCfUOYeGxm0OAbNPlYg0lGs/RuD/AUS42sQXncEO1JMnvqpoUoKjVuS2E27fXdVPclUD\n",
       "VpOazVnBQyUwvcYoU63D/c4xhvgvrMxiS0B4TZ/0e5379CKxTWQIVp+0n4aiK9feghhD8H0euJnY\n",
       "xYG0Ci5MhuO3bf0Fd2p/0C6WyAVzzuPHwYXszOuF5+RTTjvXvpIkWdDYKOC61GRpMGy7DFUgUIYc\n",
       "2EKjIDUrG+0nZEkkaniPMJXW66oDo+qM1W2bHiCrJbXlPmTB6qSfCIaFRj5zYpf/Hkxv7+Z6XV4R\n",
       "7r2vPcwIVPrWAUkyEC3i6GF1x+FFnxR+J9eDoG0nNcsoktiZe/jk/8MX6gY2kezry9fjRQWnWaa5\n",
       "Xj5rnASlU/35XKDiwTmDFMgVtYJZiSklu8dRr5Y98nT8kQEVoKukm+xL4+xEsndoQLayyB5I+kvW\n",
       "SnO5vpJXLR4H9YRWDL/wiTYYAGPLW04lI3Q/5zpRp4DKTX1wG8UGkcqfXU47cRE6MbPScLYCA9gL\n",
       "5F6dAIyr262ixR0KKgykN4jGLwMqPaPVKYAHlcaYcnQ62Izg9UJUJdgnOexbOC7Khn2uVPOLYFiQ\n",
       "vgLaLCYGWQYH2hTaWv4WEzrmEeRogZyMz18EmCUhslsC96cUlt2D8J0WppysY6wy7UXt67zCj2vb\n",
       "pMydMo+sJg2Jl/HvNt4aVg4UyJHk3hrBd3pst1mAT0yqUXaan7lnt4a0clBecFDBBY2bHD/DAAil\n",
       "sgouZhQikWXTMg5xCNQzilYOHLMwut3R+jeK/6sD3H9qsQm9hlbRo/fMwC8useGgB+C2cI87nq+d\n",
       "rbwOMPrnAkqcwsStB+3xa5xCWYaZZky0Hha2d9SezFgLBlLMrz9nZxC/FdpW5Rw4rZOk5B8/vKVe\n",
       "XXAZIcJrS1EhzQXqBYNpF/OkD1P/kO2hmr06oV3uXAIBuzOWu4a5W+wPXsvGTnQjdKJMqSJbIviE\n",
       "ytYGU85V2Hx6wDQunxgtuXrnEvEDn29cx7cq4DsHMbN5jgyWVLEOnwFLCF2/oCZ/P3hPL+K9oTAk\n",
       "Q3ekuQ2jf56A8PyBF3Wsi2C3dzZM9sH+jbiBqm6XZRxtq5IxWDAhnsMpyUbgKtmc+OmwW/GIbi9A\n",
       "EUN5Ti6w+qf3MsZYgg3yTfQW5QTzT2hnb575WTLV+od9aJtxwsA1KbiKDK6hQIH5+0+Z54SPmI9S\n",
       "MC4XFOrz0ZAvANzEIFh4pWG5x/jRMbTaKflwdsyR5SU7YkKTP/vcH4xVVal/BO+cMaa3JeVG68G3\n",
       "nEcYG48pHX3FUJHVqS4HQftedSfxNZC6DfhDmcOL+dNg3bPoxK76QJpYH/8MxelBPTwcbl0KEdWU\n",
       "tGLZJdiuIrsxnBbwXVZRQIL6HeQPUIQGTIQKUTD72ULp6Rh3MV+0//ff1Timy+c0oiwU56WxQU/3\n",
       "iAWZUFIvEIBnoDB0CslYw6v1qBlHZxrHSjEmDtk4bx63OT0Z6JA1+XRogHXAjCrlCJ0OoBSeTnHa\n",
       "fhaJdmBbKT41tDLcx1d7G4r6kI7Bm7ahxqlowNrE3Q9D0cJdje3EwW0SNcnkwlWt65CbXP/DTWKW\n",
       "Ta6/tw39fmTITPzne3PNlkElStCbtXoYaZvTLu0oBCQkZP4TZbRidxKaenQH2dmHd/vEtJzbrUh9\n",
       "moLhqF9QrfthrlbdQlOGwlTZkYzh2Nc+hLCmkgCl+z3tJ1LQobKKvyUBPh962FnidSJAERU5gEH4\n",
       "NFB5jzlCMEaWQ8v8oXRmswAozTSsLQJudYL+55JaXPN5iOkylm31o/jsU/tUQfkhTJwm6uSWZzzv\n",
       "Ps3tp8KZlKnm8mWLop7OweGke1uB+GAyJ3HK0M9EQfgPIWS+RPlgpq53fEhaQf5P2c/RHrn7O9kT\n",
       "teBF9euPLOqwxon8rJ9KQl6/kToLs9u9htrKOtoMdEyN39ugLiSUEsqWAvac6H3WB3DAwbO3RKPF\n",
       "0L4TCTuJJB9TdeVq4djA7nXczEGEnkAFiJ+jbXOvQJcTSx6xMa1ESksS0JnOYsJyyWOHcVJThig9\n",
       "qDaWDjOzuubw9B/N7VZHG5+9DSPi2ft4imsVW2+bI3YcO4rv69NS65QfuPpk6BusbjxcwOcuedC5\n",
       "L4DDIiP6g9yO/n4+ukAlVfPGbC66SIHEtlkmq3dLFUJeuLsti7tZhS6jiyqKxZlKZ+RSfxl/v/UH\n",
       "IySxJ4yUPVPO0aL7wyMu2MvrT+G0wubrQ+frLhJ0iBkiV3pKVM0fWM3VOQNU/hKSCBrTtM57i4nX\n",
       "iANucJc4n+kfwysOLbfoifAv9xke+d0SMui72bAI1B+sW/btJPXqqR433TSA4/7F9XwKlAI9KLPB\n",
       "p24eBNANhnwrZHP9yzSHTJB/1xocqHQPOFRbDWuLdItOZ22xPAlfODjOInj/J0+Idj2adidso+Y6\n",
       "az6sJ4mzmzS2aYOgCot9gPEFYDUHU1759P9chIQX8zrlZIsgLW3Fv7T13EiFADv3+AJpvNTqrrmc\n",
       "zmDM6hgQAD++5Ye25ZXjTwlWPToA3vYIYdrecLsvHkBQSZYMyEXGTv732Ht1UOqI3zIWVkdAKqnt\n",
       "rJ3H5HbK1SkxvuMHv8p+IyqJ+dlvMsv2KaunNo4oGEU/n5S+VGqfeTiPXFPAow+6ZqY6QgegSilA\n",
       "ZeH1v4ZlwRelDEqNByl22+VnKm8wlJ/mws4RoszVEiuR4zro6PdbQA66qWWpHx3DN9MD+jOiQjEE\n",
       "9pgE2C442/IHD+rlRDk+VqEPU9W6EJXxrrqnsajoXj6Qzad9+qPJVEY0mEsPcW8wf8l0pZaf74tT\n",
       "ZiGR7Wx3QKtPUcozVKmm/sQlClvASmbVGK3qBrmImqumMlbmzWQ6G1ajC76Ep4kusZ2nCsgJIVfi\n",
       "GK1bk3jUXCoXwZjFeCEutr6Adu1zvNabei29HjLaitUJQoevoAw/bJBl7HNCqLl0NHydadweYqow\n",
       "cmLOMaztTFPgLAOl9FsCbf7+xBdTTzAfNDWdg+CQC+AWxbEEI8VQD0S9X8AsUq3Dc5/4GAEryKv3\n",
       "NOmhN5h3HcsmjM883nDPmy3UFC0E1p1bukVgsuYQbH5qF6Xur9NwamPHfAOcauM018NA7pAxPzVx\n",
       "mY98Pf2WDwJwBzzxvLBXfCr7zZXWPnjBw/V9dZ12M4IXk04BQaKsQmyIYetV2QIILndEt4sE4bDU\n",
       "H0YpmjJdy9EDb+tEoKTMYOeFOTr6UI0RtcSDPwVvzyGWAX+RAs0OhiTTZMd69Q1uU46AOk2UAC5m\n",
       "6ABc+YTREeWaLEFTw+P6PHfH4taagLkDweRg6zaQjdd7WeUdW0bW1GZt/eqQiaGtqh7+wNFRfGh/\n",
       "b0PAM49A5WP5+NL+wv8YhxSP5sdswfB1zaFDY6s2Gqr39hQNbEP11XpeuOaL6CJtzkw+dKqvFkfH\n",
       "lnf4Ok36vO/VJ/ojgaHnVY+3LQcOY/9x6Hlj0Wup8UaEmLiNvu0DvUMVRxvWuK3DQGIQZFYBN5gq\n",
       "LQuMv6Kj8yKAgZwxhcLPN7//TlJOR7rgXCByMV0lrH5qlioh5+TmqnQ4jL6wstji3ym0crIDkrzT\n",
       "/sNwGiB4dXxF2rCPFpDUYgOVkpjMqJcqwGC/uS1xwyfD+E2zDpk65PlIt3Zr0wnggmTPAbYj2zJ/\n",
       "OHI3Gv09J97bI2n1fM3+tKBEdysTLEEahOJrJKEyWesYlraxcWs6EEZgiam/k19q1zxgr7lDWXza\n",
       "pCwUY+xQwwLv9yrAb6QKoMbE7qxfF66QN+0PXHTN0FtIi37ERbzAVROJyLfp1TqjemgV4w18x4DS\n",
       "JoCi4tbr9sgqgTXeaadp7BtLKR7y4mHZv1KLxTOkTF1I5Zqlk/TeXozKOIRNInIiuqvi4tTZIBum\n",
       "HTTuSVz3oZOvEULHEmkrlyV4x+1WM0BEW9/26pJBD0mgaKUG3zhM7CNY0SThQXoKPGF4+RcSFBMt\n",
       "rS7sGerFRGRUQ557drXV0aRKznU18E4o70Vfnh2YIUhsFc96fxUecZu+fQZjh+2xGwfgfV4GHQam\n",
       "nE7C+VKDSHXBwdO5gc8w1CMHY0Lv66B3411YakF1IvHsHBtQ8X77ajFf0+Oms86jgxaajoQRYj62\n",
       "eUeQzoeAueD4IgLYcSpbXE5l6W+KIC2jTj8Weqf0WEyd9EIlpVmypogOcsL7HUrSGlzBSVrlmEeC\n",
       "vCU0P+IKHNLRt4w1jpBntEwf5IJwYDHWoDDhAAABqEGaIWxC//6MsAig6nANEXmV69YqVlPRcXpL\n",
       "GOgxXkrD83+y6f4Tz1rAHSWwOnYYkjVvcGwODNWEmn2zzoABm357517ADRLgHLhAK2gLx/H3UA5E\n",
       "ajTzmKcKY3Gugu09qNON1XRtHFtZwZiGIkf9HKabYjB5zCChVrgRXGTqAAADAAAVFo6DoD7hLGt4\n",
       "DHy85bjUMYZtjRCgqeh/vMeX2ey/cdMnoyDInx/NBSyckrJ8TsV/yhV3w7qeXITy6bmXsKUgfeYX\n",
       "TEdVmmROsHXKfAQZS08dVzbxk8uzJsQOdQ2bWlAT1Y/mWF8QX3XHc8rviNyKanVIpcwGHb1UJHO1\n",
       "8woP1+toD077kBpMqJ90ZcLxgngoKgxGENACXvsolwGjRU2emUcsmNg32IhxxzgCGahe3ydM5QhL\n",
       "BtRpDAetfmpFxdhMUTCocAh+SBSw//BzQXXkeoYsJE8mTTCqS9ZtFk6rfJ7/KM+emZxTmJPeYmQj\n",
       "Jac1Lg1cMFlgeH60UdM4OFLZeCrVcj0guaDG4d/auMCCuurFwDAr6BmAa8GeHCUfbJyfLaYULpAA\n",
       "AAD4QZpEPCGTKYQr//44QZ2pGo1N2/pSDgEBQkIvcFVAv7tcPQJ+wABVo1hWez3X4J+zDcTTlTly\n",
       "2MfKbfcj+8hH828JeY/4homVx05vIZ/dRAPC4tEMBRN1D2ikqqst3TN/vQHmxGZ7K4f9M3XWdVx3\n",
       "fIetpHjCtMiUPJ1sB5M3F5ZEnHMlvP5T11aM4LHR7FYc0MCYPfCWlYxvQth4HLh2gSwr9Ch8PFr/\n",
       "cCqfYqK53ElOtbuhKBerGJNxMpxxfwAmUvOeLtwP7VRx87RTFM92zl2UZh7KUYXXe7IDlCXa9rKZ\n",
       "tJWSb0d20+CocnaVjv7twoUSuR2PEn8AAACKQZ5ialPCPwVVQfy4Nj/QK+MBlWmntTbC/U8JJgU2\n",
       "nBTorZKTb37Za9p/9mRrqXO8HnTegoMzn2M3obftievAP1C3l4zvJ6MiG1DDaXXGjJW1LmwB8u+J\n",
       "TaBNq6ZkbXQbMI7WQAdvKF48Vm96NXCzx/wMPLnNHSbCtQW573t6+rd198dix6oUODugAAAAcQGe\n",
       "g2pH/wM1I7fS7AVnaht9g50d8EWoujg7WrnZQVng6UwuUY+C8zlM78kLGz1zN+1i7oG8wOpuEyrk\n",
       "NwUJu7xzAy32mJTcJbyLBw5bI6uKGjKYD919sKxUjPu35xyJmZDSETCVTi0h2DuCeTaAREM3AAAA\n",
       "00GahUmoQWiZTAhf//6MsGxrdue4iH0GJiqGYlv4kb/pJu4sn/yP2ShErBKiJmb+wJnktaT6yOW1\n",
       "hQQ/wq/pcCI1qfB0dNNNFb0ZbdExNMTj2Ni6VWf5+WEeJj5+E7fRvpBaR6whDkMQslUBk6Ts1wPA\n",
       "NHecTEhRVNBo9rASYPrfkAS4q1YtqVx2vhhFFRTO0Rk3SrxXu3jBB4Ojy3Zv0zvLN2StsZULTxcy\n",
       "pPI1uGWtvCble2R0AJB4VmEoHf/I7UVq/7hw1ex85gV3Oo5p6Rm4ejUAAAECQZqnSeEKUmUwURLC\n",
       "//6MsAeHvdwGZczHHAaweLhkORAKBIqFLq3XB55mZVn7+tpcdjOeVsBGso7MMs5fHgCuwJk5LBzl\n",
       "CBBWBOZTorrmFNPluu/aveOYftMx1nBIsUS3UYf5sTCFOW0Zc3w5HD3E6iWZZIOYuezvM1jesrn1\n",
       "wDsK5H3YqMmr0Of5NcH/YjkUV9XNefxsFoyjg258u7o60VArdA5Thm6f1uWXWUzPfJ9ZeImKXWvj\n",
       "DllQmlhzGG61iy0iZtowyNNrw+DeMj/InIMV7DOUH3RwmucK/86zUKd3yAltS29ET+ps6z6bZtTK\n",
       "2XoEuB/oBvpT4EPnALXdxUTBAAAAZQGexmpH/wNb7ZS4b1naFXsvHeFJ0PHWQ6s+hp3WyooahBPh\n",
       "3vOgs8wd1qqDIqcFAM7+MHwFxyQNjIPNJ3C5E70smT2gvQXP3QTw7q5qGWSEZkJX0xoYFVEukr9r\n",
       "UagMMrm/oD8hAAABHkGayUnhDomUwUTC//6MsAbPRwcTA8LhbGOPNGAFnOQ6cBR7/LQv2rHFzxY1\n",
       "U7NKIwEhacLZ17MT6Pdnepy/pmvFffv5nDaytpfBr4DBE7VYwhkGIzFYs6/3XPZpEFvyFBvI23RL\n",
       "2DGwuXLRooMTTE4NaGdRNw3uHBPBP57wGOzcDJXDBtey0+ZJ/WUT7K1zpHYIKGaSbjsthHfkroMI\n",
       "HnIFi8inp6cwpOtxKE/WaVOJ5JBpSsFItkpzcEDVjIX16sxwc8v5ZOhOYVVL5f4uMSt8tnaROq2C\n",
       "WBTi4xl7NhUT+L2y2hUzK4UXPvcyM235Tjml+IiT07MSkpCjyYXcRkwNwl9TcrJRbRRLR9yIuL7B\n",
       "H8W/C6XAwOGMPgFVObgAAABqAZ7oakf/AzTu9Padv/Y02pJoHs19P8d2iUZsZZ7QLM1cBPSBSltp\n",
       "wJPp8DO2jtRnYpTaVKANgngGpa5BHkkgsXiic2/XBrpvjI8D0PKS1WpaDoUIX1xCHZ2dBmQx0em4\n",
       "pknIOoSsxg4SsAAAAPxBmutJ4Q8mUwU8L//+jLAHHsWhk2H3njowG+4j8klxXIiv9GAEEEzyJPF+\n",
       "5ICqFLtMkkptkk7B3Sjb3yqEW3qlFt95jKlLglRnC4nkFui30lVo2KP/QdZhd0aPdeBqch2jWzv9\n",
       "SCPxnd9jXvGjXS851SbL2B8BHYXEwlOx80JYwgGhSAP+M8RTbtJn4WetHCiEitzAcq42xA5F0Csk\n",
       "n4/ts+CYQhk92T7aNuDeW5Pk/tDoPbvkGwIbcg7UnPhCaPvCVWD4EGUy/Vm3dBH33XNaOYCjsa4N\n",
       "iGV3nL+T8aXgFepgtl7ozf/SaWFkt7L3cYp6qTYv9N6jaNt/RTUAAABbAZ8Kakf/AzNxg45pRlgZ\n",
       "8G4zWj1hwskAHHZ63WM8JohbcfYGQSfN7jzD6GNsPpKDJoW5FcYYDxLBVwC1YAUjnoxHnKH7lQNn\n",
       "6hrISMJoCMX6X40EsXLoEh5RiAAAARtBmw9J4Q8mUwIX//6MsAducbgqnqbFKBU0rlRcVM+5CooA\n",
       "FJPXCScS8AQDxEnJ+aUtRi9zYAfgz5oDv27VfBz5xLzcmuds3RXsKkqhmzS55wQAdfz66GivJEPv\n",
       "+XVY02HpS8ZV+D3PHvlnC0QrwOF6pRlX8kxRZEfTbRKE6GjF95AI6SEz7zBC5fQO0orSPk9z7y6V\n",
       "K5rueVJQ9V2iCmGVdhlX1WLbadMqGxSNAd5iz0xOY0Td2QUg9ndRlP8GNPVTAykJXnk1pNrEPlmt\n",
       "nl+U9BMgQigm21CUETvKxbtgdUiAhtss+mR62ltOZBt753eWusgy6N7znT2YcCBS+y8J3ueT/CJX\n",
       "bMbJl/UtCM6XZyLmcnh6pVgjhIiAAAAAfkGfLUURPCP/AguoAyaJfzlDpJA581NqyXhBBnhR0LZh\n",
       "tsg9FoqM5HW8mRSaSvO2xjGL47z5uh+84edK/sjnJxIxpkMEVJo8mithmlmbasyFaJZsxY8XqLZE\n",
       "Yb9BHugjGlSvp2KQqIR5AUvPxsLTYlulX77nJ3HhEJZ7nWhlTQAAAF0Bn0x0R/8DRzjsaRZA5KWj\n",
       "CV1IHtTgKiVK3GmSriQ3xiT5Ze33lVMY8mAdtIJHpPsJ+Pfm+MNXM6bMcraWiblM03iN4Lavkcpt\n",
       "jj7+SDWyVjYzcTlPO1QAjjDhdN0AAABhAZ9Oakf/A0jv1/PNrFkFAxRqqggPHgqNqR+bChZED4Qm\n",
       "sHA0/iEdEuuu1Q6y1Y6kv/BIPxq9ssR4XLsU16KK2Pw+Q1BGthJCX45fCy54h8W5R3BFVoj4QXCS\n",
       "qGr283AIeQAAAN5Bm1FJqEFomUwU8L/+jLAHcnqZGK9kfn88D0PI8D+oAQfwo+Nyc/HaAVWpGse4\n",
       "DXCxtqgenauUIGEMtXOGASnbF0xQV9Nnj/s27s5BBsBdKrFRLwypkn40E+Q/Fas4HSS6G2/bLnOq\n",
       "MHfu8z7Mtcj/u70T/y+luASCxzclkEGQOn842UxfuQULkLsHv5eUJ6LhDmuPGaUP1P2PNas6GTb2\n",
       "/OqSHwJLCMwxor2lzXkIj2ktK2LIFMU333eaOEJuNgbksPkNyASFgeFRePeD0e3q6rXCk8jeZ8UO\n",
       "PNUwiYAAAABgAZ9wakf/A10lDXuY//cbWHmsrWy4/fBUnPy/OJZq0LrbQA/RS2doQcshb/7gxL+v\n",
       "x+BR4rcOtYHwmUhE66d5uBnF3vnzOQNuQ5ubV8B3Jxwz7NWlwtfdTwzvm4CKPddcAAAA6UGbc0nh\n",
       "ClJlMFLC//6MsAduYGz7sdjp06/Jkkx8G716IMfWyQBzD0wRSuYP0mjGiExZQmuMidpXJvDicFLD\n",
       "OxPw3V1rrUMMew+b4X4EtO/81GPyVL6yHMTXrKOXVXn344lH8mrp/vUPXODTrTMBDfCoTN87z2Bq\n",
       "W0TZ+T9HBRhaWdqIukQwp9hc0CBzyDO1JXD92n7SFJkAGrKUgzqBRHT9M0dc+wZwjXxYZx6U6/i8\n",
       "fJc5TZYstGYnzNidAwXQ9VS08geGKZzuqGUZFsjcLYdKlRXpjloOv+lJJp3gyviAB7rpbmm8jCah\n",
       "AAAAWQGfkmpH/wNc7vTz1Lfdih1MM5Z1ys/NfYVsROV50V8BaDC7F1xg8EKTWkx5ZiYmX7hlupwm\n",
       "+ktJzCkpPFJMZLx7h+QVRItmesE37FVimF+vv655RCY+CDigAAAA4UGblUnhDomUwUTC//6MsAdu\n",
       "YGiXlxd3+qTt4A5h64T2svLypmd2DSJprCiVVnW3lQrmGhyyPHX5+gw5LIwg3rV5cGIsd80Nz8U4\n",
       "XuuIK8rLtsSQS3wLX9Te5F/IqKVasC5gwe+hR1TopQOM4aF3YBuNCYjQtXKZHEIKrpSUMazW5RLW\n",
       "0CneMsqK9ai536U3TOcYmz4oJ/vVnYG2sfnZwyTb8Te+8FdPg3dcqrK8f8ruLKF8gvO7WBKlrdqn\n",
       "BnZBlZLodAtdBH76hp+020/eHd2zpItmjfyehA2suBt9jwrkYAAAAGgBn7RqR/8DXO/X882schT7\n",
       "gZUq75lzwF7deuXAA3q0OYXvWKK4zKM5me9iCenhsWlDsTzIrXlnuKnkj5UqgnJ4acP81qSeg/y/\n",
       "9JhVOXVjzPzibB0ckl5vJ6791SgCzWiunWTQYKRLQQAAAPhBm7dJ4Q8mUwU8L//+jLAHbmGV76AE\n",
       "Jlw1mWifR8dh3ikGAIuyn+iuHiTIgi7tn2ZpkVg0Yab8GJqKLRZLgoabAuLk9Eo156hmADkgTJXV\n",
       "KmjDHXYVqZpUznrWtlU/NA8iO5IT53snAtucowj1nlz/zmNQRNhRNCto/mSyrbLYPka5m4uU8zKs\n",
       "Ge1y5TuAceQ/iRIISn+YM9pL7YhVf2wLJ9XYx3jKtztRnVyUvfCoHZQZZq16DeI84+KX45mRROb9\n",
       "gesX5DqC1ks7B38KXAxMbFFqzfffw84WlL4TrYxpWIVRynAJkxv7W+IvFDKAdoWbsK299Bg74AAA\n",
       "AGEBn9ZqR/8DUgLKWMuqEEGAyfA+8AA/nYpyAABIcAMhQKOcSq5b02euzA76yA/YzBPuVadLgvFS\n",
       "6/4AzusqUtDB4B7KwjsrYxeT+aDP6e7bUYcO2wu+Fbz5zXQ2c2Y2yxjxAAAA+kGb2UnhDyZTBTwv\n",
       "//6MsAdq40gzxdxFEX0bNq3fpkKAG9jcz5PqaDK0HmiO9latpdRgHAlWdwbR88NWez3Ia4Sv8oVq\n",
       "fH2NLE1X9vD0jtf66pp6uvxl1pWz3nz8sPsvru54jfcvfHam3xEvRpiRr7GJcnuL7NMm0cmTi6Bh\n",
       "WYosrxJSaBLY5yObr140V+I6SpGit8GN59vW2hqYgzPaqeDgZJWZkD7ssC7XNRvnvoB7F8yoq9Vk\n",
       "y/wrn3KZPsbR188OUawo5Foy0bn6ZnUG/24+8Yw+sq+woSL2Rar+d/AkHwiixTNQIhR/loaIozyl\n",
       "1By7SD+Pe2N1ocEAAABrAZ/4akf/A1JGEKo4D8wA3N2hAAJqVVTL4dTh6Be2PH0L9Lwsrq++nXAB\n",
       "do1xsVNDmIkV22wvZgV0ZN976NwcgeaeFV/hpG/GN0dyk4bFzmTKjmpjr2Vo6t6XbryK/sRXq/Se\n",
       "BTWnIEwU2jgAAADwQZv7SeEPJlMFPC///oywB3rdfRXmABoyD97kk959nDCyLEwo0ZGxc4jcX+EL\n",
       "qMXxiJNACx5Zwd26ZEBhIho4AaaL0+DyXm3qcB4495jxx2l8cPJJPmZFP1jDzUCqZ/bIRzKD+4ZC\n",
       "qyxmDicmAoDbx/bMxoE1sizAFQo9wVSxQnje10nID3Msqxgbclryxa1vNaQ5Wa8qXWWAb34oLz21\n",
       "sLP2gnY4DCIWoxjEJBC12l9Pllx5B7rRmpb8lgOmokWIWgAzO1SJoB7MtokoWARpg8GBDE+MXurj\n",
       "lemvfnXDVxCsi98vwsU6/DdjBh0qZWYNAAAAYwGeGmpH/wNSAsomfIRBBc0sscAV99ZF7uPM/I0r\n",
       "GEZZYdoF0lgqGaPqKeD/P51JHbVWBjToB7ho2SyWS6tBCyIoY2vcHrZgFacAvwzGOGeT9xmeGGgj\n",
       "AwzSzERcUjid390KeAAAAQBBmh1J4Q8mUwU8L//+jLAHauN6fu97OABo3qCmAER1ZhjiRdUdLCaY\n",
       "SXnYMxNcBDhrpUVSjXibhNBGOZohQrITSCw96rFwCXm+RAmsD1Ubzzwqhofi+LHZ0w///WgEATl2\n",
       "xWmLucv0CUpBow2YorJk1Y1Bp5SvDChrAiC2BbnaZHPzTkQrFKJ+OdqV1lPC6Qn9cUBvML/Hnp4e\n",
       "21+1jOyRY5oRqH8lmfzznZup10lWaxZmtEsxAf7oirBghle0DrCQB6r1XXErPLYobixeZBLd/3G4\n",
       "mjmh3Dbllrylwr1zu0Ghd2V/khzgbV+Vsy0cfU4rAsTrm6XisA/VJPTMqi0lAAAAZgGePGpH/weX\n",
       "eY4O3xtf8pDuljyQ7ejgAAfzmhhaqXM36aXiI/di/OYiLVDBSKUaviYQxBG4WrHFBLr5e+9w4elB\n",
       "ieB79Y5WKn6M29nViJ7VALxoW1RqPLE8BQuWpfkD1/0Y80RKiQAAAPtBmj9J4Q8mUwU8L//+jLAH\n",
       "h73cCSRIlc7VT8AHNictPA//w1xf+VZeu9W4kg1q4fWI5Qrs4VgGF3wjmGe4VIuTGa89Fns9LYhy\n",
       "l/4OODumkljJRniQhLQ87IHQGkJ1563hQOW2oLd9KuRTYrbqtpU+e38a4Y0Uu0TvBn33H/oaJtxB\n",
       "IpporNFKoXCafkONJ+/lD09b01eBv+ORXgF4ly/5R8lREm1z19iATEDje18AFNWgU914lrw0Gn1O\n",
       "VdLzPrCUmhChTzUSY5gSVJ6EqIMh9GvfhrJA4zmYOsierSBOJvB4y4rRkIfEHh3eGzux4VVcjCau\n",
       "hvPRKV/liQAAAGEBnl5qR/8DW+2tLhnbYaE6FD+k4NekrK6VHlN5ChxECv+ThCops/M5ELqavnZw\n",
       "yFonPeZSIoUNCVUtolEcaItapW4JGeYGQhwVTtpyvBSryVWsfBwkAZmLyYLL9UdEg7nIAAAAyUGa\n",
       "QUnhDyZTBTwv//6MsAcuJRJZKajLzM4h7wWXuSfIe6beyDOjYdUBV+//QEAEsVB7j8dClLixnh6E\n",
       "iZuxUxoyVyGn5gkQUwTu/nFKOxVJIhhN57lkgdT2OuNJkKITisSH9XpwnUNCv0IZJhdrDksGHB3O\n",
       "VRsPyyDC3bEB1pcQ8HhCatKYwZtDxsU5BtoLV9YygbdSCB4bpqAgqHSJ6lwsJ+frpf3O3LlcKT1J\n",
       "XmegpUiS/rYCmvaHC+tRk46wbxkt0mhe/s6p6QAAAF0BnmBqR/8CPHtWoRjj/6aXT2dxsSUHenKE\n",
       "gnCtdX+AJ2GZWJkP6YdXDQZyXAihc2Fy5TL9M7sjjQwWvgJwYC9eku8TKH+RSMCzvigCfMVRMI6s\n",
       "26TMr4f5bkefM7oAAADzQZpjSeEPJlMFPC///oywBGAXM+QjxSm5leSAoALqPXHmuDFW3CXscZMl\n",
       "mWBZmmBAquhy9yHGeGA8nl737rIxgyVdr+z/6uG/9NU+yUOb9gLs//qWPHIt3cJwPCebPHHOAo8R\n",
       "HwBTDCCa5KbbiX/ybFTrOhPZaNxwe97RfYlFAiahOSI/fZzjHqAZHcRe06NGngWohMEtpngbnn2y\n",
       "8krANzsJhX7CjZAp+q+Qf/QuwuMwmkQlMeOHBWCcbrCX6QkBqYOZXZmM50a0SL8cxga6LjxrwYfz\n",
       "lQOyLwruYukB3cYXdp8cLvi4dJzbz7K8En/4WTzRAAAAXQGegmpH/wI6wJv4MXz0v3O6ppmRJOaY\n",
       "7kQ+cqbmh9WYHUYg8bRJh8RL3/gDcAJkXsCeGQQX0iafEVik+tVktkN86R3TrRaQ/8mAcCd7MV2I\n",
       "Yt88EWo9KWTJy8fZwAAAAOpBmoVJ4Q8mUwU8K//+OEAQv0CIgPX0IeLevI03siLK3ZAZ9vEyGDdg\n",
       "QuEOt2Krsq8p+aImZmA0XinY7bGx//2n0u+X+31WfYBMxgTIzotOOV5qPgrsFavMb0o5nZ70ZCrz\n",
       "uXqLeQlI5lCj7RYOgDTb6nJxbNPmBnTI9NWnzQ5c/ikFF0gnNk15S6PRv8IVTaZD4YdMbnITTyng\n",
       "VqpR061sRqkPVdxQQUAZtCotJeDKtDD5+i3ytd5rR2zg0iWbNuZ6hdwBbOx4ipCY2RIowSe0pxbK\n",
       "Jd1Fet09mrlGdC4rk7w+AceInaswtIUAAABjAZ6kakf/AjvLLhXkh1lI3yaMUebkDKkR6uuu594r\n",
       "pU7dNHIYP2KBtgkz1Vv5skQfeih+fAyCgYPd7uqfHc5D8GmQNzIQ+bkceDZj3NMVSJuiwzDXFjc7\n",
       "pDE/1Ac6JBdFAzzhAAABHkGap0nhDyZTBTwr//44QBE/Pwsv7EANmDyloA21Mwg+t/0CFBaPrgy9\n",
       "QP8GPFkZN+F/WKXhls2MBuJRJxMGGiigIZWfe28Am+/Xoncv22qirb20m5M7Hb+w5doOv1F2YBsJ\n",
       "RjLRfOXceeqdtN/vc9pbiH3gTHIuVQInvv0qSuhFhs9qNgbUqQyohc/G34RXJxZ6Mm7X/VHq/1/l\n",
       "0rLKL0/IGYo6ZeSnaC+hIZidVOnbVg5hcLB5ufr0AMe5Tj5u+QIRU5Ou8jvpidZBCVpsk/Pgr5mO\n",
       "WXvOqRIUxtha8FmfBW1Xgo8waaFcp1afESDUHCR50CA+0vuk4l7NALUhUUvVVE14YLbCMuhp5uGm\n",
       "7QJiXjFL9tizX1Of+ZkjZ5UAAABlAZ7Gakf/AkvvN/Bx9v8My+5hz7ouK0u6XpnuH9RkB4GiiNsw\n",
       "zV4h0ByM23iEf5NldJMfzcvW4onJmzaQj1B9AbJ1e0xaVuYg3xY9KlFVcuAPMwZ8F71qQw8JjIQT\n",
       "j/QLwMS8P8EAAAEAQZrJSeEPJlMFPCv//jhAETsjbiv9FTIvILLpaqAWK18YgCN2/4+lvW6GDgrE\n",
       "LkJYyWbN+481tX+qJD28iqjPFqEJeN+2xzoWHb9T8TEpE7upE8Pnn+OJdgonOTDrZGnfAlXq4bZs\n",
       "RDSZvTFAJwvwdUO6T917PkT5U6Wf+09JWT+Pb09aIgBzTNWAum5p51zIErTQIDnLY5pogMjjWlGb\n",
       "XMGATogDVP/QytChgCudPqoydgMASNXupq9eoQnIc8e3mx2T5RRnDGZW3bbZ5nwqw7kgJTBdwlZs\n",
       "jPuxTr+0o+nw++z3WQODrk2E/qVoXnxcnZ7RpRTdcMVCOM0vLPiugAAAAF8BnuhqR/8CSsCb+B7E\n",
       "kgeR+q4rNa/9dOgcHHudojn7/+XKWUHQ3InDoiSFIIF5FsVmZBj0XNqh9/GxPvW0LtBIExSXyQTc\n",
       "G16M9ZsR5lMfxM9XJl5m3JT6+HzVlsyBwwAAAOFBmutJ4Q8mUwU8K//+OEARPz8Mw0oO6OiiQzZV\n",
       "nkAVTdFlqmnq56fXKr36+YkxY1VuoRK4fOh+h3Zy8PwRcNhm3w9oRevbC/JQybTTdHYjLLt6jfof\n",
       "7msUX2avDXBHvNyLwN/eaeIVKmQnNUo9FjC1+HRfs2WXDAUqhohiayBesVy8gb69zMBtLAOjT/Jw\n",
       "H+tVCH2ZVRtbaX0ISaoKlP9Kc/141LBwixA76ve3fcu5XTdSv/XG98rZJmofNy/aufnN2E/F/t6L\n",
       "NFVUvMCxMVXuksR1Ii3knSbMLibZ83cdyKkAAABmAZ8Kakf/AkrAm/g6RiewjG3rZqOC85rp105o\n",
       "Poj+MfD+pmMFFEOTMJQC/AE55fJb3i1WgSXOm+zlI41zuy4QXOkNo8lzGY1Evstt9C0tcMgLodRk\n",
       "WbAWcumRHBBNx/3UvaSSavtIAAAA3EGbDEnhDyZTAhf//oywBKAOyzp87I5hweDrgQQA6waRcGxR\n",
       "YRADUwRyDyshYoHILjwEapKawd86dhslMYPOKZItwOJMn5NCVeQXpTzobYkwh06cQz1dO8yD6SLc\n",
       "1oUf+3X9cB1ktbEP0pPFY+wwwjs46EZHLODjAAyW1IhAe0tnJ5FsrOINO4b5tjif72IBjn8Gf6f1\n",
       "bgnShVfw3s9NZ+PKax5OB1/Wub52wsxUD3qXH71B3rKy8i6YeF1lMS9Eibzd75WzMyY66J4cC51U\n",
       "YrGu2N6vfEouQqDqkTAAAADXQZsuSeEPJlMFETwv//6MsASgFzQK7mJvtlKvzAAON/5oJV0B3UJV\n",
       "XPhtDMn0aRgceAkGvSfHF4l4tDBf0p+1cEQf88bQzcKli5kSN6FYIPNIHakCKFhEL3LYoUWw65tc\n",
       "bmAMS0GEZmQCuXy/GJsfWI03A+/NIVERszTWcA/xOGuUsIdRHYx5CpqTlmO7ts2GcpFtNwObJKIT\n",
       "5WPn+1ggA2SeUfE4/yZktpaSLPbiiVNH+ZkRDOvUPX5BCxYRrkuQDjXsvAoU0xYfX9qR9VFSeU4K\n",
       "W9zLuscAAABaAZ9Nakf/AlrAm/gexJIHkfquIKw10XiRRkpLbnZ3SVgaZMZhZXNGCkqcTibDj7vM\n",
       "q5fMW6s1P2VE/FZ/OFeKvWhHcsQJVMUxzdZlUTdupgt79jL9RzuQIaazAAAAz0GbUEnhDyZTBTwv\n",
       "//6MsASgF4PpwZOqLqI5di6Ueb+DrKpCWsvaTCMXI6YAbWmZQc/+0qw+51QnzsSh8BUCvr8BcKcx\n",
       "15HIqreh0YRBkbLom4BqO5cQCrCb4NMi2CVKn5ayvEzwhLYnHHBAVumkDt80uWhlF/ScdIbF4zhY\n",
       "oq86In6upPY+ZbP7uNzwy7oX0OtRyIfc5DaVKln1Iv1IfDClgjrTlWMgfvXECqeoPAhyIq32s3iv\n",
       "axgiaZBd6ay2LyZPAXZlRLZgAJgPhdILiQAAAGIBn29qR/8CW8swnZVSd4gmYfWbCbc0mUYT/beV\n",
       "LHyma9+xAmJhKtc7HOIjfVPADDmk6Br3JcA0bUdzTeaun9Cu+DrpIugTlQbbps/cn36irERrmOna\n",
       "Uk+0PckQSXd5qYnj1gAAAOlBm3JJ4Q8mUwU8L//+jLAEwBcy0fkbAqhWi6QkANB8ezZuAbL5At3P\n",
       "wQbSLIp34Una+yAhDSz1TKxa1xlmEyGVV41GJD8yATCFRhpUtmhrtrkfvwXuWJskQEHyj+BSDhpg\n",
       "s/9c4QbImI2wY5vU8YZgzf63xJiwcIF3q7LhL9HuvorSXnNrvpNG5tu/RgXXNyG3HOAAwR4zPlyE\n",
       "IoD8nK7jy4tM7ncSMBN0jnwX3jsOIdMAyrxciTOVwXFR9oRIOwRKNSC/jvxUAJ/wp20fzxoG+yjg\n",
       "3QbqCXRw+NKvNZ2AZZ/dOJ1D1DiKYAAAAGIBn5FqR/8CasCb+DFJP5g5A9i8SJFAh2NhsBa20DEa\n",
       "C0hcMxGJK8vXRM3xlkzJXb7Si/GaimT0Y7zrF/51F6VFPeRbTmc68vL3/gcK0nNfdL7HPlGDpxv4\n",
       "FZR5Yxue/wI61QAAAKpBm5RJ4Q8mUwU8L//+jLAEwBcy0fjJrS9TCYYAQcXGcu9DXjyx4tEjC2oc\n",
       "Mp0TshWpG4a3noI+m7Z0yqKjeZlrWCa83sGUmOs4ykZH3vyjtNxcPnSaK/LUWEaL4715K8hTLwQl\n",
       "oenxR7hngO7ti85coBgYkY4XMnRtfdoAS1/4Bw8Iw8cWw4dLeMRWt0WrNAdeFDgC1zm7z+9yXN4X\n",
       "c2R6Wb36CKrLBHkJPwAAAGABn7NqR/8CasCb+B7EmJ3954QHSqbSZTdxQhNxX2RyVKJzVFnM9BPa\n",
       "1Iw1fk9dblwG889aXt8tU5rYfPznmkiL0NrFpgu27RlwVkyjWYE/147nG/WQ+ZnkS50+gsONGJwA\n",
       "AADqQZu2SeEPJlMFPC///oywBOB7kAZvqUJb2I8Q5v8Y1zb2b3NFYoEXgb9E8FESFtzhc4SLI8Tp\n",
       "cgWrPKAQgCrZU+JGAacvlUS1bgoeIYJC2YtQVmQhheJomf/XKh7/ZNRUvf6HWnK2J9AkYQ7cQkd0\n",
       "Ci+uCdDuA22sM/+bHyQPTTMgUGg4wyz0K9WhmkJ6LiWmjU5vv36aLhgAVjWEX0B3EoezyI3RwZ/r\n",
       "YqGW/Quu9vcHAol7b4nuaVcqxeHgU13TPNuBQ29Mcy51ySM/7s6a4Z1l30hb+wtC6FtaGa4iimQV\n",
       "qTh/jmdu6JeRAAAAXQGf1WpH/wJ8e1ahGOPsC/320BnxEE+wTgzNJfjgNkhiAB2HNuz0f6MFTjKo\n",
       "Phy1nJ23CbptR/FIZdo0+16TEf0hEMqBr2rg+SwYs+PbxHNeOy3lcmpswAiPDiWFhAAAAMZBm9hJ\n",
       "4Q8mUwU8L//+jLAE4QrQLG6li5Yi8AcEjnLA5amQ7l0fWbb1a5Cf931vlm2ARhxa7e1L8ujWAg5z\n",
       "jKXDfFVQx23OKJbP73W0jlbeMDEopWAUYfqJwhYgL7A/kfr/dwlYoGw2+F+vDB5V65XquKiGv24U\n",
       "ow6n6UnLBHIA49wRRUhd7FEJlrBC8E1RPf9a0R9WsMS+WildxlDK2Txu+iVYdKg2FdITEjbiCJtQ\n",
       "0tqFEt8DQ3ccXCdsNioqWlCEywdxER8AAABXAZ/3akf/AnrAm/+JST+YOQPYzRbLyTm3jngzisdF\n",
       "vYV3nwko+og4/R6cxPXeJq40a/H+lqkVY/zdx1Z4vnM+7RfdR8ednp68KuvZ4HDGWGJWy+zWHIw5\n",
       "AAAA00Gb+knhDyZTBTwv//6MsATgFzLR+INEh+nPe7HVYbmtu4Sk5HGi2LiTAAJgIhMGL49fLEKT\n",
       "PtmCH2Y0oPoHLl5z0uBQ46aj3AcSD8gQMp2I7rHKfNgsZPO3IVZTxPLKmzZwQmSMQqJmta80dAT3\n",
       "Qg+LfgtnCF+CNWWuHIGKdy7x/FZ3uARzCN2Tmk1c1wyYzb8k8j0PJ8Cr2MuBuOKotnFg8kD3cFoa\n",
       "2VhTz92RquoSRiUWvKMwNFUdfiTb9hQzJUhYRnsYl5PCqWJfPA7BjbK0IKAAAABjAZ4Zakf/AnrA\n",
       "m/gexJIHkExq5ItVfHaNVYRSxXqI4QSYMjmdnbBntz/l8yyOxErEz6QNk0ugG2o6OU/395ae9e4S\n",
       "pVNRJrNJiNwq/fsY46nKvpc+9f2Cbdtw4A8XLX4M0RFxAAAA6kGaHEnhDyZTBTwv//6MsAUFY4OJ\n",
       "WeGdWLqJ9QkARUsfChVmKc2cOHpys6hPqRNJAtIPeXqNNaJj/kLaGBuWytxcFYK+Bkfl2LpR6Dj1\n",
       "WKY1igzwSJLSL6SKW5T0j4qdW3JVCLK955qRBUInfnF89WWv0kGO0E7HjDNBqtiIGEW+nIK+FOOn\n",
       "H8eop9pD/EtyhKMnOixF3qyVRAhQUx3So/bgv8qfE+CKlrWck9jAE93O0N6ovbogjZjam9ZIt+hK\n",
       "jZCtH09V+H543ZVF8Hm5to/IZTuWEQFivzMNlUsyz2haVAaswDUWYJIBcwAAAFwBnjtqR/8CjZa3\n",
       "0uJ/2UQ5/o9vUhk28Da1YJPQ+pdiw5xtGD3aZF24uK2XKAXOefA9eW/bkcWwhw/TRnsGjwpx+IHx\n",
       "8fMqip9PM8bxX+sGewPfqTlwRGGZtlzC6wAAAQ5Bmj5J4Q8mUwU8L//+jLAFBWMq5ABHNgF9HHK7\n",
       "PK69Lk6KoK2QVu8jc7GzLCtVTn3K1ia8RUoTpQGitp/kmALlcu8u1cZHrIzDTi2fegGbUdodobA0\n",
       "kJYpfc4Pdsn+57DMw6cQ5TVo3m5r3WrLk3zKzDWs4AORPTZxAj0+w6bLinZmnc8zDG9i3Uiy5q9l\n",
       "jdqMqijrNyDNp6Mh6pQ3SBd7TgGIqtdMoiyC026lZPDoHdP8VFYs+qrs/nOZxdFPgkrLiu99QxWp\n",
       "ik5xsaIksqWtaZ4LYgTHleK4MdcCzpGhoYq7pJSuUDF/wXRkIWILaDuiwDVp5BHPyJVv6UT1rWFp\n",
       "+IZBys6fbGWG7vm8iGkAAABiAZ5dakf/AowpzYzbxJFry4E3Qzmn6IGtQRN9uyfwN2otAU054wIS\n",
       "M5Y7U6ITsabPXMRNZKKjwkDIqw0AQvb6g+yAcOo1I5cm9YIgG7fU0b4UreIY7gPh4ov9twnBX6hk\n",
       "orYAAADpQZpASeEPJlMFPC///oywBQVjg4la4aNm1L/wOByE46lCZbD3vxPHxQLIJbPNPI5yKeUT\n",
       "KZbw0TiayATvSx2VLnpxIpfo+8UPsmWy9pvg4/Asx/Lwz+t89SSSHdUb1n84gZJ/2AC+MYA4wFQT\n",
       "6+iqtaCzo3EY/ZQoxtcerzpo4krsrAvFqGq7esN7UVZzLy9mLyjaTeWFFLhJ+DamUOp4bp0rnzJr\n",
       "ozDCgwzyICN9OJsIIoy/OvHKmsO4tNIYJ5MOZ31fQICGLr4eZN1SB1kDcPjqnfO9uw6QFFURRc3b\n",
       "d90s/zaMlvxYcb8AAABaAZ5/akf/Ao1o6L7YQGFC5ChrSVKB9qMEbuwWdOCkOZkCupY9YnWsgRwu\n",
       "p6tTJmmpXFgf9fkMU5yIpuc2mdJTMbVWWznrQVGWb/m5wA6QOKNYpUnYBFs6xOEHAAAAx0GaYknh\n",
       "DyZTBTwv//6MsAUtYyPNYw2ioudh8/f9pgAAjADi43mE34z5P4KrDultqVMBHy4x/hbushPa6sCR\n",
       "+M9YlEXX4z5qZLvEAM93iBju26lZ92I0ocp6ismk0sw/yJWxOZKePC7v1fl0MyjVW8bFYkLFDn61\n",
       "Q0cNG1VYz5MVLvqa1zGcwzZqG/GnvWbSbwjACe/9McOrGJ+4vA40cJLwyrOgck3MFmgUsncPeexK\n",
       "ee0ld53qCScMSvpGgGd/ubHFzYWazMAAAABqAZ6Bakf/Ap4pzYzwg5KPrit7ZIFEhPyW4bLOSGvv\n",
       "/mmd/wHwwYn4AFVaQCab6qlSl1ZFKbbneGYvJitD3CN1PYK/Em2+Flv8ABv74JbC5FOgWGzIq3RG\n",
       "tC+qJf02ZXmYKOzjwY4NSimqgQAAANhBmoRJ4Q8mUwU8L//+jLAFLWMjiVpXrRXWnmXPGbpeNL9/\n",
       "CHCl8m7SUbIap9GRIE8FvhUV0I5zrhCvKjKE6e7y8xfgLwe4NcPo+JmSZm1RvPNUm8J74SlDkbRQ\n",
       "lp6VLIwildwLRSX1G+rC7sPOhA2MDwv1K8YEqlKK3w2epMQNRRWfGvTk8Uo6RCHaix63tg57Tjmz\n",
       "hbCdEZJaRovqW/jzMP7X8UIWs4G6XL5UKSImfFVicc/cS+USvz0BTfHH3oN6Kw6vp693Urw0CLkR\n",
       "g7J+W6QjlMHSETAAAABgAZ6jakf/Ap4pzYzbxJIHkLeNmHSpZPZ66HEyBv8b0SqHWOEiFeHy3iOj\n",
       "8HmSDji0FZtV9mFMcY6tvGcqVrrzp8UaskQHQXTDozzP1TrwL+TZU7iqPGqx+zEHEiDZ+AQFAAAB\n",
       "EUGapknhDyZTBTwv//6MsAVXkrrib204Lzh/VxahlyF/JRbX+mjO4AANqVhrk8/uy+JqU3pTwUH/\n",
       "+OhGir60eKcGY2pOsO7von/Z98LV6HuycfQncs6gMiidMA8YJBMMAX8hy2RTXODijuLtpCKnnyKI\n",
       "ukHSQAabxQyoktPPKvAZGC3Ktjl+2if/CDyiZl2uuK08xpwosCuiAKWgzVgffBGZTd6BxFEecsQv\n",
       "/+mR0EELzrp5TBQaq71FnBpQiLoS+BQvrwSuBizSlwM9nwFmw8L9rVpchf08qfkaKDKBPR1r5hum\n",
       "fyF8rO8Op5aC9fc29UTCFFgpUENdFg/AOHqk+PpuzJMgqdpBXvR5AUNmfwivgQAAAHEBnsVqR/8C\n",
       "sZgNeeV/zKwCLEiIC3A5TpiGh9TfgDJryLNZV5mRxtSCG0+d/TTBm2VEp22yxQjkuXARkc2W1s0Z\n",
       "1tCqe9lvJw775VbMRdlSMFhgD7PYwAt3bghhnpEgm57dW9B8DN4G7T6RKUcWQGhuwQAAARZBmslJ\n",
       "4Q8mUwIV//44QBRT2qnL5Wi/UHgtXKDgDt+XY8mVm1izYmQ6H3r50K/iOnPu9qDwl1P/3BqOC9rk\n",
       "HYzRFF7Tb4yIRMHBnR/cRlJ4ya6wiq4ftf7JVvZBmrFk8tvqysTsET9XEWiosQr6LSmjDEJwtvOn\n",
       "lmH4hp2GmaJCueEOUCQ/b36YlaiwsmQPkHDxVNxcWrTrOcf9VSb3T/Z1Et2jeft/0tEs9PGPWyMl\n",
       "Ah6yq779Rynk/teXU6jPSZ38lvKsKfVa6CNUBiRcpjZFk56WZRdrsaXKZMwTvNn+TL6EtTKqVE+m\n",
       "eVfwrY5c+cmguqASWxXrhG0Y0aNy28Zch5hLN/yDfaaDCUWE1AfDvKRPc2IScQAAAHdBnudFETwj\n",
       "/wGwhjJM6fDYkiF3g/XlzCqKsldyJraWkCHPY9jkLaUjeByJz4GAysCGiIsJJ7tqJveIorpCSvsb\n",
       "a4sl2tq8DQYWgNSX9bqcRQOdUUho/juAFsypmmbC3fq7zkTIZt52fCJSSSHK97UZokCgWi0x2wAA\n",
       "AF0BnwhqR/8CsCnNjNvEkqYE8zMUV0I/fhyB/d9WBG74xAwKhD7D07AReegqrdK5BmzGb57w9yZa\n",
       "y93lJo8lhYqZsbdKP2xiBUUq570UOZNTdyBx+1ApmDYQEqeHJeAAAAC/QZsLSahBaJlMFPCv/jhA\n",
       "FS5oABg8uxcyR8JHC7HpmAN18HrRwC7mRFTQj6B7aib018IJuIljo8+CCQlusExwjVw9u6jNizQS\n",
       "+X4Z935S9yNZm4Vi36ithav7Ul+ERxNPYEhT94Zda/vHsri5ZzPC0dkR4d51SHytVHrpRsI7UKVU\n",
       "pC4Jm+C7gmFcnhraxJf1Iqereuxbtvz3lPDMtJWHQHeFMtQePWK/Ev+W3JMfLrFXCH1/PH5VSYT2\n",
       "YcdLI4cAAABjAZ8qakf/AsOYDXnlf8zTlN9JVw5thguTf1t7egHIS+VTnB4a+WoYElNSX6WGjDX/\n",
       "3pZohOYRVO3Z7HSMafv5IUMwN7yPy1qsS0xBf45lGDtuOBNatt8+xAA+/f7mrH8r1VP6AAAA70Gb\n",
       "LEnhClJlMCF//oywBYT7V2u9zB4wDz+AIFS5+1b60Jzb5j4UwnbGFReRMKOvBDzxbgo1Zzib7fjO\n",
       "N/Lb83Iot7bPFYezwrx3N9u1Myh1+dbR6B5qh3shz64ryybrb9TOjoLmE16L/xwU5/MrGVEtHRxN\n",
       "3YlEcwjddqyf9/A0GPcY7Pid0T5DjY5giWEIUSYH+HUUKpIrc8TbEHa6+nsh1a08D8euqMOidIjH\n",
       "eIC8TTLEIw1GWA3m5s6bNzv9EUbLEhfe3Oyw6xzLPtCUHBkEYFAnvy8RNE9uK59k5uJqZkKVuvBP\n",
       "g1VfMhQigwJ4AAABIEGbTknhDomUwU0TC//+jLAFg5I2Ym9tOI2LyhGmK+htpgBs7sgzsMEnYNUB\n",
       "f+S0u1vswksY5k8eVTs9DOziss+KD+ZbPxv5lLKmOvc6754Vbr6MZ7fQflOgplG7PT8t818yZFV+\n",
       "iDeeqkXY1BGjCjbq3gl5NNaFEDEPu6GWpBkhYitMk4P02nSXn4Ef1MdpFbjEyGuwrgzpogEo7fFT\n",
       "VHS4S7zNFDlxpMCPPCiIRPU3F9EWR3mZfBQ6W27jrNt2UU0/2fpIbsuH84KR7WCo8HSrHc+Yvjpm\n",
       "3NuqdfZsH22lOwYeNHyms1/xcHLMU1vMqN8VGHSZoxElXMKv+0QJKYk7w1RrmlX46iBl8IYZSdkd\n",
       "eRdFk18Dr11CQpp2msgdYQAAAF8Bn21qR/8CwinNjNvEkgeR+nRAhcjYPmzo140U/4AUvipAAId+\n",
       "SX4+sNZX5Aj2sZEzRb5L1rjNkv4CAuz+geZAq5r2AN+vGptdPDUOuRyVGcQbA4kfMmC9TKltxqBh\n",
       "QQAAAQ1Bm3BJ4Q8mUwU8L//+jLAFg5I0S80f3hfJIthJM9RswHEARCypmE5Qp1KkVQNryvLwTo6D\n",
       "8G/mv85RzRZuHUhwP2Mr/8sd5pzqkxoo7JhRvfMbwpLaBtzxm60X00sCXqBvSOfvoBtYkKoXuYsD\n",
       "Uk+6QErYub/yk+Tfv3TleGqrnU0APUwmgniARTfBskD1wgSvOJ2/Kw5kvfp4MjCqX+OH6kXL/aHW\n",
       "ytQro5blFLp2sme63euFtiqzvwrZvobRaQLsfIaahJaHHiRPu/++jR0y/WIUmzHyfjLlMYBNBUUA\n",
       "DOxq2A6/GqfGjXnOs5ha56TSr5buWOvoI9HRSsPKRKP8Da7Pzn6V/D6KJlQjYQAAAGEBn49qR/8C\n",
       "winNjPxCJ7CLXph7b/wdgAbpm2aoIK9RQetg2xBujJRTWhHRk9cFfk6KigeKHZ+bU/4NbLHMdr+N\n",
       "87kGehSp9dqtrYLBaRIeNN6FDyLt4X3gYrMWSr1bN9fgAAABJEGblEnhDyZTAhf//oywBa+Y6zVP\n",
       "O1WQIXTeqmfzDJ4Hw/ZpnsH+bqjs+kjJlaQAtpeSnU0Llp3/CcsN6EdQI/LKNUj8yBtIz6O6MOoZ\n",
       "8uSEu7mvfZ7S/Jax3B+xhhVYg6BevWRIH3nEbesMJge+hFFDGST5apzuWfVMfZnfcjx6vqRGOjRt\n",
       "hbDNaDgUejjSTHiAxVx6xyeuVdaFz9KhXO9yR56iCX77CmM0sCT2Y2thmT7aEaePj7XVqv+iRwI0\n",
       "iZJFxtN1pdEkqXaVhFZHmUDepC2HVF8Qr+ZLhlY60UyIW+bccOHLTRb3gO+sHH2IwqIINfQafMmX\n",
       "vvxy92ackvuxt8XwxkGHl1tt+KpxeAKaQ8jG0KdJM96O+slFIEdGzQlSUJMAAACMQZ+yRRE8I/8B\n",
       "xMnmqlh+MxGF4V0hE5UjHOfnJ/yiDa5GvNRUEsSgJSH2xCnVDaXmoieQkQ9BmV6r4Kj4jjGMLJQG\n",
       "DypBjT/PYIeAiixX+kk8BllcS2d1lLlXs0Z27brODuuElHaB9NjL2nU8pXNzmVpATg3uIcw27PN0\n",
       "3Az/FRF6vYC+UKu4Ond8gEEAAABhAZ/RdEf/AtPrwgZ8O+ybk6T7Li3a6UlLxQHXLPCV7dkFQ72g\n",
       "Expzc+K7cHcT5BomD54A3jHFR+Qq6AyeN/g7GFAkHR4j1PRf2GSv4kygnLvgwvJlF7gzPAY32LuJ\n",
       "dCB/NAAAAGYBn9NqR/8C1CnNjNvEkqYE/gmFyLkJDIa64JbQU8kxVEXmebQvv06q5HHyqMDUKe0k\n",
       "nJK62VGj3H2Vg5oMjrT5qUQzP+LYnBK3YlBfr73+uWHPOt3T8HsWJNGnoBB34ySxqMFdGkAAAAD8\n",
       "QZvWSahBaJlMFPC//oywBd7wNEvLiruc0LUCbQCahS6qOjQCXpKNosx64/t33KkGhfjl+RajhVWw\n",
       "o3M53Cb3P0slvLBRv00Yk5T02htqeqnAryBRVaTmu6oLIbWr7pGbJQJ2C3BJ2e3M8jRK/atvCZmx\n",
       "D3yI1bFp0nCqwOqxEOcEv2VA5UlFjTADMtGYsDN7+g6cMCzRujkQof0XLFwl1KzFxZW3N898OGeO\n",
       "hdSCAVPDIXswT9qjkmmCD1UJkOoJRXX1QIrpQTgJk8NTPpxO7xiBHcgLpXglp7r5X6WO5NwyWtvX\n",
       "S06w7IAHOTAAjRXaFmbu3YFG2a5sjGjLAAAAWQGf9WpH/wLnlrfS4n/ZQ/l7P26AFhNbdP+O/a85\n",
       "vg8YjcIX53m8HxylIeomr8g228Fm3g4E+l64e+hQSd9sTqYzrRaoJYMk87UOun5ti9Kxc/w22K6c\n",
       "fHeIAAABCUGb+EnhClJlMFLC//6MsAXe8LjMAeq8+wa535UTWGzTACvJ1wnSrRPS5gHpBHgT+8Pi\n",
       "KGvGEQiNmCTNe0l5cyZrKs9lx2H6vf7auUCiZlu/a6kj/yWQV3gC8DtWYmHgt5CCXb/Gr+oBkQzK\n",
       "Xbg+oLMHA0XJwzUNs45Wmd9pJn1Ek4Yagc9Np4e9rl7GDVB4+Sp3wl6AEW4YDOhky3hWfLLHHCSg\n",
       "R0ycsSVmP8ns7e/SDkj/D5gTGpYXvyma+ph+6awS+aX0LV49SZHW/NRQiIwkBYwzXZQKaXZaBFZo\n",
       "tM4c9vOJon52w7TtCB0+uNVlp1JEJtMtqO2otGGw8/Mjz9baHK1ca9fdvX0AAABuAZ4Xakf/AuYp\n",
       "zYzbxJie5oHZt4Nav9V7jiaHqhPaIiT2Tovb0VLYFbT5xhk8wN0TQ+LsFk8iQFRw4+aC2+vqDovs\n",
       "ZdSq+VesX4ktyNvLtw7GH1JmXdf6cUvcYsGPtuLNNeYAE6b4EBDPKjhgM+EAAAEEQZoaSeEOiZTB\n",
       "RMK//jhAFlxnzZln5jUTWto9u+zLzotlAMHG96wFNiCKKisp49D1xK9grmXo/cvLO8ORRTHuCyzR\n",
       "hpUerLr0/DnokIByMQAf3Jbw6TEd+mFQn1ckiPMzWwb4ekw6y6Ns2wJkaM0sSAgQgtCpFsozPlDt\n",
       "ZZzTboDZuly0Z9NoixEwjfFy2F/3UtHXijNbNLnG/qH0VGwyL3aGtAmfwSj6H8nvdT4qsQVFFi2q\n",
       "eZFtjLqfABA9nV4xA6y2rTUsQdH9T2f7BaCFS5I3xqu2a3JAtvD1AiLJiHE4MnLbA7J36rtvBvS/\n",
       "5wI1u5pMrtK81DmfYbrFMDhPUzk12oAAAABrAZ45akf/AuYpzY0GJQ6JgpZ6eoXrdALoUXYqrNkT\n",
       "YvdKUbXE2DDdTnf+InoNZGvLkzeU60kXeoRyEFzYqQNkj6m5pYjup+mA62pswus5OGKQfv4HU/o3\n",
       "6sX5R07MbobF9qfcpK32772AiIEAAAC/QZo8SeEPJlMFPCv//jhAFxk3yxDV1DJEE6kceQkFDe9L\n",
       "h2ecSoAuNAE8j4C5n+lUeev6XbcBlsaQYhm6lf6Yme7YE43sbuF9gbqffcshO3DovEMXRvJAVtVh\n",
       "a5IrX3fey5pqY/daViBz8Qcyh/uToPkG1yvyWvKR15VqjIYpjqN6WHUuiPOuJhzh6iNwvcnlvRsB\n",
       "mDPhISNaGnTJGH97bdg8GoU4mP2KxVMqjUxga9/zLH6fRpvih6iWdio2e8AAAABrAZ5bakf/Avgp\n",
       "zYzwg5Gnr3TzcFFufp3Ego2sTGQbrd+LnPMV7dpnRp/DIezaRmBa28tHevLiSao92ol/enKGAQnI\n",
       "876ZZhDNLI2inP5VOW67GPwHp3qLkBNy5+wSeMZS5h4tx4e9bYnhWs8AAACnQZpeSeEPJlMFPCv/\n",
       "/jhAFxk6PxJ+1DJDjxnm7g7NaQIL+4JtmpUw0S/cKR3lZE+i3+SJoNLLnaU1pTfeCh1suVSv+pJY\n",
       "q+pZDikF8X8WmF8Z1ygff/JxRMz/f+udlP3GAsg7TJ4/I20hOlDyulaB0WZ8GIS0LSw5bq/z0JnD\n",
       "A/UUsgPhqRyVfSf5ReWULs5J0SugxRA0ib41RcOXDmSaT85ohGrlT2cAAABlAZ59akf/AvgpzYzb\n",
       "xJINhE8pUvK/wI05LWd+LhDwAyrnMarBXdC0xZRqfxYp1BE1auzUMqhc9UzMc0zfpChwV6J2/h4V\n",
       "DE136C0YMEk0XR2vxnb1EjJ92NTs0rRyEtMG6J4wy2wAAADgQZpiSeEPJlMCEf/94QBcf0n6jcBx\n",
       "bzDnNaFknRVvnF/2X8fbDLZjbr9bCObSI21+BoM4o9Tz9qB99BV6GC+zlIAGhc3hLgOvMs6i2M8F\n",
       "cMs7R0ClBlBeJWXLv+eituXf5341FZ83FRFznCBbXzCWv8p6XIm5y26VhwQT5oADP1PQWYyTnjah\n",
       "RwaAV2/CPuHH9mzzvfqAzMjE1YVxxkAdgTzXXi4G2ll9kbD+/nanJ59PpVa4HuM+tjrak9N7/gfJ\n",
       "/npvBpuSekWv5aVUZyOByDVk8IH5CDyQzO87jAvMdEAAAACOQZ6ARRE8I/8B5coeqpFAdigtc+wj\n",
       "x3Z0LBw3UGJc3cRuKDpIJLSbxKOCnEEOh0OUVVahEgKX3uvLOKnxIS+2MKoRnh1zNna54L7iIfvZ\n",
       "wj0IXtYN8AA2O8e7al2TWMgVeY6uyVe+2YtX0/q0K8jE/yT0+NdiIdo76RI8HehQF1fGs06cN0/a\n",
       "jjB4Mv2CcwAAAF4Bnr90R/8DDXMagvRMUBWVS+ZLxPZAU7IP/OxGGZiJng0FHb0dT3Q92wV0p/cn\n",
       "StO+7a+TLe9ICtD5UxsZkmoZEru/8D5VaN/koc++klygZyt3AsQbScmaZED4hD1AAAAAZwGeoWpH\n",
       "/wMLc5uOekfP6WT1qvNZgbaYTaxFd99ZJeAKOedcj/6ZL8pcbro0dDaOJmFxjWO2jVXkRrOiRD7i\n",
       "Hey6/Cdtcxy/AqHSBLkETtcQxJrCn8/fICtXJ+FeWQNyMxc1lqiF+/0AAAB2QZqjSahBaJlMCP/8\n",
       "hAFlcHUwZ6PS+IpbXB5c6yUPKo9wwah2LkW0B42M96ILS4xiByS41KUBwzBA0iwaP0vrAEk4HCdl\n",
       "yNsIvG/4/zysgNGVOMde4Dhk92ODTnrkSwNcYDLXh/lMLS/JSPbIRCg+WQcsyN2nBAAAB8Ztb292\n",
       "AAAAbG12aGQAAAAAAAAAAAAAAAAAAAPoAAAH0AABAAABAAAAAAAAAAAAAAAAAQAAAAAAAAAAAAAA\n",
       "AAAAAAEAAAAAAAAAAAAAAAAAAEAAAAAAAAAAAAAAAAAAAAAAAAAAAAAAAAAAAAAAAAACAAAG8HRy\n",
       "YWsAAABcdGtoZAAAAAMAAAAAAAAAAAAAAAEAAAAAAAAH0AAAAAAAAAAAAAAAAAAAAAAAAQAAAAAA\n",
       "AAAAAAAAAAAAAAEAAAAAAAAAAAAAAAAAAEAAAAABsAAAASAAAAAAACRlZHRzAAAAHGVsc3QAAAAA\n",
       "AAAAAQAAB9AAAAIAAAEAAAAABmhtZGlhAAAAIG1kaGQAAAAAAAAAAAAAAAAAADIAAABkAFXEAAAA\n",
       "AAAtaGRscgAAAAAAAAAAdmlkZQAAAAAAAAAAAAAAAFZpZGVvSGFuZGxlcgAAAAYTbWluZgAAABR2\n",
       "bWhkAAAAAQAAAAAAAAAAAAAAJGRpbmYAAAAcZHJlZgAAAAAAAAABAAAADHVybCAAAAABAAAF03N0\n",
       "YmwAAACzc3RzZAAAAAAAAAABAAAAo2F2YzEAAAAAAAAAAQAAAAAAAAAAAAAAAAAAAAABsAEgAEgA\n",
       "AABIAAAAAAAAAAEAAAAAAAAAAAAAAAAAAAAAAAAAAAAAAAAAAAAAAAAAAAAY//8AAAAxYXZjQwFk\n",
       "AB7/4QAYZ2QAHqzZQbCWhAAAAwAEAAADAZA8WLZYAQAGaOvjyyLAAAAAHHV1aWRraEDyXyRPxbo5\n",
       "pRvPAyPzAAAAAAAAABhzdHRzAAAAAAAAAAEAAABkAAABAAAAABRzdHNzAAAAAAAAAAEAAAABAAAD\n",
       "GGN0dHMAAAAAAAAAYQAAAAIAAAIAAAAAAQAABAAAAAACAAABAAAAAAEAAAIAAAAAAQAAAwAAAAAB\n",
       "AAABAAAAAAEAAAMAAAAAAQAAAQAAAAABAAADAAAAAAEAAAEAAAAAAQAABQAAAAABAAACAAAAAAEA\n",
       "AAAAAAAAAQAAAQAAAAABAAADAAAAAAEAAAEAAAAAAQAAAwAAAAABAAABAAAAAAEAAAMAAAAAAQAA\n",
       "AQAAAAABAAADAAAAAAEAAAEAAAAAAQAAAwAAAAABAAABAAAAAAEAAAMAAAAAAQAAAQAAAAABAAAD\n",
       "AAAAAAEAAAEAAAAAAQAAAwAAAAABAAABAAAAAAEAAAMAAAAAAQAAAQAAAAABAAADAAAAAAEAAAEA\n",
       "AAAAAQAAAwAAAAABAAABAAAAAAEAAAMAAAAAAQAAAQAAAAABAAADAAAAAAEAAAEAAAAAAQAAAwAA\n",
       "AAABAAABAAAAAAEAAAIAAAAAAQAAAwAAAAABAAABAAAAAAEAAAMAAAAAAQAAAQAAAAABAAADAAAA\n",
       "AAEAAAEAAAAAAQAAAwAAAAABAAABAAAAAAEAAAMAAAAAAQAAAQAAAAABAAADAAAAAAEAAAEAAAAA\n",
       "AQAAAwAAAAABAAABAAAAAAEAAAMAAAAAAQAAAQAAAAABAAADAAAAAAEAAAEAAAAAAQAAAwAAAAAB\n",
       "AAABAAAAAAEAAAMAAAAAAQAAAQAAAAABAAADAAAAAAEAAAEAAAAAAQAAAwAAAAABAAABAAAAAAEA\n",
       "AAQAAAAAAgAAAQAAAAABAAADAAAAAAEAAAEAAAAAAQAAAgAAAAABAAADAAAAAAEAAAEAAAAAAQAA\n",
       "AwAAAAABAAABAAAAAAEAAAUAAAAAAQAAAgAAAAABAAAAAAAAAAEAAAEAAAAAAQAAAwAAAAABAAAB\n",
       "AAAAAAEAAAMAAAAAAQAAAQAAAAABAAADAAAAAAEAAAEAAAAAAQAAAwAAAAABAAABAAAAAAEAAAMA\n",
       "AAAAAQAAAQAAAAABAAAFAAAAAAEAAAIAAAAAAQAAAAAAAAABAAABAAAAAAEAAAIAAAAAHHN0c2MA\n",
       "AAAAAAAAAQAAAAEAAABkAAAAAQAAAaRzdHN6AAAAAAAAAAAAAABkAAAS3AAAAawAAAD8AAAAjgAA\n",
       "AHUAAADXAAABBgAAAGkAAAEiAAAAbgAAAQAAAABfAAABHwAAAIIAAABhAAAAZQAAAOIAAABkAAAA\n",
       "7QAAAF0AAADlAAAAbAAAAPwAAABlAAAA/gAAAG8AAAD0AAAAZwAAAQQAAABqAAAA/wAAAGUAAADN\n",
       "AAAAYQAAAPcAAABhAAAA7gAAAGcAAAEiAAAAaQAAAQQAAABjAAAA5QAAAGoAAADgAAAA2wAAAF4A\n",
       "AADTAAAAZgAAAO0AAABmAAAArgAAAGQAAADuAAAAYQAAAMoAAABbAAAA1wAAAGcAAADuAAAAYAAA\n",
       "ARIAAABmAAAA7QAAAF4AAADLAAAAbgAAANwAAABkAAABFQAAAHUAAAEaAAAAewAAAGEAAADDAAAA\n",
       "ZwAAAPMAAAEkAAAAYwAAAREAAABlAAABKAAAAJAAAABlAAAAagAAAQAAAABdAAABDQAAAHIAAAEI\n",
       "AAAAbwAAAMMAAABvAAAAqwAAAGkAAADkAAAAkgAAAGIAAABrAAAAegAAABRzdGNvAAAAAAAAAAEA\n",
       "AAAsAAAAYnVkdGEAAABabWV0YQAAAAAAAAAhaGRscgAAAAAAAAAAbWRpcmFwcGwAAAAAAAAAAAAA\n",
       "AAAtaWxzdAAAACWpdG9vAAAAHWRhdGEAAAABAAAAAExhdmY1Ny43MS4xMDA=\n",
       "\">\n",
       "  Your browser does not support the video tag.\n",
       "</video>"
      ],
      "text/plain": [
       "<IPython.core.display.HTML object>"
      ]
     },
     "execution_count": 4,
     "metadata": {},
     "output_type": "execute_result"
    }
   ],
   "source": [
    "HTML(ani.to_html5_video())"
   ]
  },
  {
   "cell_type": "markdown",
   "metadata": {
    "slideshow": {
     "slide_type": "slide"
    }
   },
   "source": [
    "## Importing familiar tools"
   ]
  },
  {
   "cell_type": "code",
   "execution_count": 5,
   "metadata": {
    "slideshow": {
     "slide_type": "skip"
    }
   },
   "outputs": [
    {
     "data": {
      "text/html": [
       "<script src=\"https://cdn.geogebra.org/apps/deployggb.js\"></script>\n"
      ],
      "text/plain": [
       "<IPython.core.display.HTML object>"
      ]
     },
     "metadata": {},
     "output_type": "display_data"
    }
   ],
   "source": [
    "%%html\n",
    "<script src=\"https://cdn.geogebra.org/apps/deployggb.js\"></script>"
   ]
  },
  {
   "cell_type": "code",
   "execution_count": 6,
   "metadata": {
    "scrolled": true,
    "slideshow": {
     "slide_type": "slide"
    }
   },
   "outputs": [
    {
     "data": {
      "text/html": [
       "<div id=\"ggb-point\"></div>\n",
       "<script> var ggbApp = new GGBApplet({\"height\":600,\"showToolBar\":true,\"showMenuBar\":true,\"showAlgebraInput\":false,\"showResetIcon\":true,\"enableLabelDrags\": false,\"enableRightClick\":false,\"enableShiftDragZoom\":true,\"useBrowserForJS\":false,\"filename\":\"geo-test.ggb\"}, 'ggb-point'); ggbApp.inject();</script>\n"
      ],
      "text/plain": [
       "<IPython.core.display.HTML object>"
      ]
     },
     "metadata": {},
     "output_type": "display_data"
    }
   ],
   "source": [
    "%%html\n",
    "<div id=\"ggb-point\"></div>\n",
    "<script> var ggbApp = new GGBApplet({\"height\":600,\"showToolBar\":true,\"showMenuBar\":true,\"showAlgebraInput\":false,\"showResetIcon\":true,\"enableLabelDrags\": false,\"enableRightClick\":false,\"enableShiftDragZoom\":true,\"useBrowserForJS\":false,\"filename\":\"geo-test.ggb\"}, 'ggb-point'); ggbApp.inject();</script>"
   ]
  },
  {
   "cell_type": "markdown",
   "metadata": {
    "slideshow": {
     "slide_type": "slide"
    }
   },
   "source": [
    "## Examples:"
   ]
  },
  {
   "cell_type": "markdown",
   "metadata": {
    "slideshow": {
     "slide_type": "fragment"
    }
   },
   "source": [
    "1. This presentation is a notebook!"
   ]
  },
  {
   "cell_type": "markdown",
   "metadata": {
    "slideshow": {
     "slide_type": "fragment"
    }
   },
   "source": [
    "2. Access [callysto.ca](https://callysto.ca/learning_modules/) for samples"
   ]
  },
  {
   "cell_type": "markdown",
   "metadata": {
    "slideshow": {
     "slide_type": "fragment"
    }
   },
   "source": [
    "3. Michael's [examples](http://bit.ly/cally-shorts2), \n",
    "Richard's [examples](http://bit.ly/CallystoRichard)"
   ]
  },
  {
   "cell_type": "markdown",
   "metadata": {
    "slideshow": {
     "slide_type": "slide"
    }
   },
   "source": [
    "<img src=\"CanCode.png\" alt=\"Screen shot of Callysto.ca\" width=\"800\"/>"
   ]
  },
  {
   "cell_type": "markdown",
   "metadata": {
    "slideshow": {
     "slide_type": "slide"
    }
   },
   "source": [
    "## Computational Thinking\n",
    "\n",
    "1. Breakdown a problem\n",
    "2. Look for patterns,trends in problems\n",
    "3. Abstraction\n",
    "4. Format a general solution\n",
    "5. Analyze and evaluate the solution"
   ]
  },
  {
   "cell_type": "markdown",
   "metadata": {
    "slideshow": {
     "slide_type": "skip"
    }
   },
   "source": [
    "1. Breakdown a problem"
   ]
  },
  {
   "cell_type": "markdown",
   "metadata": {
    "slideshow": {
     "slide_type": "skip"
    }
   },
   "source": [
    "2. Look for patterns or trends among the problems"
   ]
  },
  {
   "cell_type": "markdown",
   "metadata": {
    "slideshow": {
     "slide_type": "skip"
    }
   },
   "source": [
    "3. Abstraction"
   ]
  },
  {
   "cell_type": "markdown",
   "metadata": {
    "slideshow": {
     "slide_type": "skip"
    }
   },
   "source": [
    "4. Format a general solution"
   ]
  },
  {
   "cell_type": "markdown",
   "metadata": {
    "slideshow": {
     "slide_type": "skip"
    }
   },
   "source": [
    "5. Analyze and evaluate the solution"
   ]
  },
  {
   "cell_type": "markdown",
   "metadata": {
    "slideshow": {
     "slide_type": "notes"
    }
   },
   "source": [
    "Core steps to computational thinking:\n",
    "\n",
    "1. Breakdown a problem\n",
    "\n",
    "Take a large and complex problem, and break it down into smaller, more manageable problems or steps\n",
    "\n",
    "2. Look for patterns or trends among the problems\n",
    "\n",
    "Identify or generate data which is useful to the problems\n",
    "\n",
    "3. Abstraction\n",
    "\n",
    "Remove unnecessary detail from the problem\n",
    "\n",
    "4. Format a general solution\n",
    "\n",
    "Once the problem is broken down accordingly, take those pieces, solve them individually, and put them together logically into a complete solution\n",
    "\n",
    "5. Analyze and evaluate the solution"
   ]
  },
  {
   "cell_type": "markdown",
   "metadata": {
    "slideshow": {
     "slide_type": "slide"
    }
   },
   "source": [
    "<img src=\"Page1.png\" alt=\"Screen shot of Callysto.ca\" width=\"800\"/>"
   ]
  },
  {
   "cell_type": "markdown",
   "metadata": {
    "slideshow": {
     "slide_type": "slide"
    }
   },
   "source": [
    "<img src=\"Cybera_PIMS.png\" alt=\"Screen shot of Cybera, PIMS\" width=\"800\"/>"
   ]
  },
  {
   "cell_type": "markdown",
   "metadata": {
    "slideshow": {
     "slide_type": "slide"
    }
   },
   "source": [
    "Students working at the board, WPGA.\n",
    "<img src=\"WPGA2.JPG\" alt=\"Students working at the board, WPGA\" width=\"800\"/>"
   ]
  },
  {
   "cell_type": "markdown",
   "metadata": {
    "slideshow": {
     "slide_type": "slide"
    }
   },
   "source": [
    "Students at Templeton School\n",
    "<img src=\"Templeton2.JPG\" alt=\"Students at Templeton School.\" width=\"800\"/>"
   ]
  },
  {
   "cell_type": "markdown",
   "metadata": {
    "slideshow": {
     "slide_type": "slide"
    }
   },
   "source": [
    "Teachers workshop at St. Leo.\n",
    "<img src=\"StLeo7.JPG\" alt=\"Teachers workshop at St. Leo.\" width=\"800\"/>"
   ]
  },
  {
   "cell_type": "markdown",
   "metadata": {
    "slideshow": {
     "slide_type": "slide"
    }
   },
   "source": [
    "## Fun stuff\n",
    "\n",
    "- interaction\n",
    "- animations\n",
    "- videos, GIFS, images"
   ]
  },
  {
   "cell_type": "code",
   "execution_count": 7,
   "metadata": {
    "slideshow": {
     "slide_type": "skip"
    }
   },
   "outputs": [
    {
     "name": "stdout",
     "output_type": "stream",
     "text": [
      "Overwriting f1.template\n"
     ]
    }
   ],
   "source": [
    "%%writefile f1.template\n",
    "<!DOCTYPE html>\n",
    "<html>\n",
    "    <meta http-equiv=\"Content-Type\" content=\"text/html;charset=utf-8\"/>\n",
    "    <script type=\"text/javascript\" src=\"https://mbostock.github.io/d3/talk/20111018/d3/d3.js\"></script>\n",
    "    <script type=\"text/javascript\" src=\"https://mbostock.github.io/d3/talk/20111018/d3/d3.geom.js\"></script>\n",
    "    <script type=\"text/javascript\" src=\"https://mbostock.github.io/d3/talk/20111018/d3/d3.layout.js\"></script>\n",
    "    <style type=\"text/css\">\n",
    "\n",
    "circle {\n",
    "  stroke: #000;\n",
    "  stroke-opacity: .5;\n",
    "}\n",
    "\n",
    "    </style>\n",
    "  <body>\n",
    "    <div id=\"body\">\n",
    "    <script type=\"text/javascript\">\n",
    "\n",
    "var w = {width},\n",
    "    h = {height};\n",
    "\n",
    "var nodes = d3.range({ball_count}).map(function() { return {radius: Math.random() * {rad_fac} + {rad_min}}; }),\n",
    "    color = d3.scale.category10();\n",
    "\n",
    "var force = d3.layout.force()\n",
    "    .gravity(0.1)\n",
    "    .charge(function(d, i) { return i ? 0 : -2000; })\n",
    "    .nodes(nodes)\n",
    "    .size([w, h]);\n",
    "\n",
    "var root = nodes[0];\n",
    "root.radius = 0;\n",
    "root.fixed = true;\n",
    "\n",
    "force.start();\n",
    "\n",
    "var svg = d3.select(\"#body\").append(\"svg:svg\")\n",
    "    .attr(\"width\", w)\n",
    "    .attr(\"height\", h);\n",
    "\n",
    "svg.selectAll(\"circle\")\n",
    "    .data(nodes.slice(1))\n",
    "  .enter().append(\"svg:circle\")\n",
    "    .attr(\"r\", function(d) { return d.radius - 2; })\n",
    "    .style(\"fill\", function(d, i) { return color(i % {color_count}); });\n",
    "\n",
    "force.on(\"tick\", function(e) {\n",
    "  var q = d3.geom.quadtree(nodes),\n",
    "      i = 0,\n",
    "      n = nodes.length;\n",
    "\n",
    "  while (++i < n) {\n",
    "    q.visit(collide(nodes[i]));\n",
    "  }\n",
    "\n",
    "  svg.selectAll(\"circle\")\n",
    "      .attr(\"cx\", function(d) { return d.x; })\n",
    "      .attr(\"cy\", function(d) { return d.y; });\n",
    "});\n",
    "\n",
    "svg.on(\"mousemove\", function() {\n",
    "  var p1 = d3.svg.mouse(this);\n",
    "  root.px = p1[0];\n",
    "  root.py = p1[1];\n",
    "  force.resume();\n",
    "});\n",
    "\n",
    "function collide(node) {\n",
    "  var r = node.radius + 16,\n",
    "      nx1 = node.x - r,\n",
    "      nx2 = node.x + r,\n",
    "      ny1 = node.y - r,\n",
    "      ny2 = node.y + r;\n",
    "  return function(quad, x1, y1, x2, y2) {\n",
    "    if (quad.point && (quad.point !== node)) {\n",
    "      var x = node.x - quad.point.x,\n",
    "          y = node.y - quad.point.y,\n",
    "          l = Math.sqrt(x * x + y * y),\n",
    "          r = node.radius + quad.point.radius;\n",
    "      if (l < r) {\n",
    "        l = (l - r) / l * .5;\n",
    "        node.x -= x *= l;\n",
    "        node.y -= y *= l;\n",
    "        quad.point.x += x;\n",
    "        quad.point.y += y;\n",
    "      }\n",
    "    }\n",
    "    return x1 > nx2\n",
    "        || x2 < nx1\n",
    "        || y1 > ny2\n",
    "        || y2 < ny1;\n",
    "  };\n",
    "}\n",
    "\n",
    "    </script>\n",
    "  </body>\n",
    "</html>"
   ]
  },
  {
   "cell_type": "code",
   "execution_count": 8,
   "metadata": {
    "slideshow": {
     "slide_type": "skip"
    }
   },
   "outputs": [],
   "source": [
    "from IPython.display import IFrame\n",
    "import re\n",
    "\n",
    "def replace_all(txt,d):\n",
    "    rep = dict((re.escape('{'+k+'}'), str(v)) for k, v in d.items())\n",
    "    pattern = re.compile(\"|\".join(rep.keys()))\n",
    "    return pattern.sub(lambda m: rep[re.escape(m.group(0))], txt)    \n",
    "\n",
    "count=0\n",
    "def serve_html(s,w,h):\n",
    "    import os\n",
    "    global count\n",
    "    count+=1\n",
    "    fn= '__tmp'+str(os.getpid())+'_'+str(count)+'.html'\n",
    "    with open(fn,'w') as f:\n",
    "        f.write(s)\n",
    "    return IFrame('files/'+fn,w,h)\n",
    "\n",
    "def f1(w=500,h=400,ball_count=150,rad_min=2,rad_fac=11,color_count=3):\n",
    "    d={\n",
    "       'width'      :w,\n",
    "       'height'     :h,\n",
    "       'ball_count' :ball_count,\n",
    "       'rad_min'    :rad_min,\n",
    "       'rad_fac'    :rad_fac,\n",
    "       'color_count':color_count\n",
    "       }\n",
    "    with open('f1.template','r') as f:\n",
    "        s=f.read()\n",
    "    s= replace_all(s,d)        \n",
    "    return serve_html(s,w+30,h+30)"
   ]
  },
  {
   "cell_type": "code",
   "execution_count": 9,
   "metadata": {
    "slideshow": {
     "slide_type": "slide"
    }
   },
   "outputs": [
    {
     "data": {
      "text/html": [
       "\n",
       "        <iframe\n",
       "            width=\"630\"\n",
       "            height=\"430\"\n",
       "            src=\"files/__tmp1233_1.html\"\n",
       "            frameborder=\"0\"\n",
       "            allowfullscreen\n",
       "        ></iframe>\n",
       "        "
      ],
      "text/plain": [
       "<IPython.lib.display.IFrame at 0x110879f60>"
      ]
     },
     "execution_count": 9,
     "metadata": {},
     "output_type": "execute_result"
    }
   ],
   "source": [
    "f1(ball_count=50, color_count=17, rad_fac=10, rad_min=3, w=600)"
   ]
  },
  {
   "cell_type": "code",
   "execution_count": 10,
   "metadata": {
    "slideshow": {
     "slide_type": "skip"
    }
   },
   "outputs": [],
   "source": [
    "from IPython.display import IFrame"
   ]
  },
  {
   "cell_type": "code",
   "execution_count": 11,
   "metadata": {
    "slideshow": {
     "slide_type": "skip"
    }
   },
   "outputs": [
    {
     "name": "stdout",
     "output_type": "stream",
     "text": [
      "Overwriting myFile.html\n"
     ]
    }
   ],
   "source": [
    "%%writefile myFile.html\n",
    "<!DOCTYPE html>\n",
    "<html>\n",
    "<head>\n",
    "    <script src=\"//cdnjs.cloudflare.com/ajax/libs/d3/4.8.0/d3.min.js\"></script>\n",
    "    <script src=\"//unpkg.com/d3-force-bounce\"></script>\n",
    "    <script src=\"//unpkg.com/d3-force-constant\"></script>\n",
    "</head>\n",
    "\n",
    "<style>\n",
    "body {\n",
    "    margin: 0;\n",
    "    text-align: center;\n",
    "}\n",
    "\n",
    ".ball {\n",
    "    cursor: grab;\n",
    "    cursor: -webkit-grab;\n",
    "}\n",
    "\n",
    ".ball:active {\n",
    "    cursor: grabbing;\n",
    "    cursor: -webkit-grabbing;\n",
    "}\n",
    "</style>\n",
    "\n",
    "<body>\n",
    "    <svg id=\"canvas\">\n",
    "        <defs>\n",
    "            <radialGradient id=\"sphere-gradient\">\n",
    "                <stop offset=\"0%\" stop-color=\"MediumPurple\"></stop>\n",
    "                <stop offset=\"100%\" stop-color=\"Indigo\"></stop>\n",
    "            </radialGradient>\n",
    "        </defs>\n",
    "    </svg>\n",
    "</body>\n",
    "\n",
    "<script>\n",
    "\n",
    "var width = 400, height = 400\n",
    "const BALL_SIZE = 20,\n",
    "\tBALL_OFFSET = window.innerHeight/8,\n",
    "\tBALL_SPEED = 3;\n",
    "\n",
    "const canvasWidth = window.innerWidth,\n",
    "\tcanvasHeight = window.innerHeight;\n",
    "\n",
    "// DOM nodes\n",
    "const svgCanvas = d3.select('svg#canvas')\n",
    "\t\t.attr('width', canvasWidth)\n",
    "\t\t.attr('height', canvasHeight),\n",
    "\twiresG = svgCanvas.append('g'),\n",
    "\tballsG = svgCanvas.append('g');\n",
    "\n",
    "const balls = [\n",
    "\t\t{ id: '0', init: { x: canvasWidth/2 - 6*BALL_SIZE, y: canvasHeight*1/3, vx: 0, vy: 0 } },\n",
    "\t\t{ id: '1', init: { x: canvasWidth/2 - 3*BALL_SIZE, y: canvasHeight*(1/3 + .01), vx: 0, vy: 0 } },\n",
    "\t\t{ id: '2', init: { x: canvasWidth/2 - 0*BALL_SIZE, y: canvasHeight*1/3, vx: 0, vy: 0 } },\n",
    "\t\t{ id: '3', init: { x: canvasWidth/2 + 3*BALL_SIZE, y: canvasHeight*1/3, vx: 0, vy: 0 } },\n",
    "\t\t{ id: '4', init: { x: canvasWidth/2 + 6*BALL_SIZE, y: canvasHeight*1/3, vx: 0, vy: 0 } }\n",
    "\t];\n",
    "\n",
    "\t// start the left ball moving\n",
    "\tballs[0].init.x -= BALL_OFFSET;\n",
    "\tballs[0].init.y -= 0;\n",
    "    balls[0].init.vx = BALL_SPEED;\n",
    "\n",
    "let init = false;\n",
    "\n",
    "const forceSim = d3.forceSimulation()\n",
    "\t.alphaDecay(0)\n",
    "\t.velocityDecay(0)\n",
    "\t.nodes([...balls])\n",
    "\t.force('elastic', d3.forceBounce()\n",
    "\t\t.radius(node => BALL_SIZE)\n",
    "        .elasticity(1)\n",
    "\t)\n",
    "\t.force('init', () => {\n",
    "\t\tif (!init) {\n",
    "\t\t\tballs.forEach((ball) => {\n",
    "\t\t\t\tball.x = ball.init.x;\n",
    "\t\t\t\tball.y = ball.init.y;\n",
    "\t\t\t\tball.vx = ball.init.vx;\n",
    "\t\t\t\tball.vy = ball.init.vy;\n",
    "\t\t\t});\n",
    "\t\t\tinit = true;\n",
    "\t\t}\n",
    "\t})\n",
    "\t.on('tick', () => { ballDigest(); });\n",
    "\n",
    "//\n",
    "\n",
    "// Periodical kickstart\n",
    "kickStart();\n",
    "setInterval(kickStart, 5000);\n",
    "\n",
    "function ballDigest() {\n",
    "\tlet ball = ballsG.selectAll('circle.ball').data(balls);\n",
    "\n",
    "\tball.exit().remove();\n",
    "\n",
    "\tball.merge(\n",
    "\t\tball.enter().append('circle')\n",
    "\t\t\t.classed('ball', true)\n",
    "\t\t\t.attr('r', BALL_SIZE)\n",
    "\t\t\t.attr('fill', 'url(#sphere-gradient)')\n",
    "\t\t\t.call(d3.drag()\n",
    "\t\t\t\t.on(\"start\", d => { d.fx = d.x; d.fy = d.y; })\n",
    "\t\t\t\t.on(\"drag\", d => { d.fx = d3.event.x; d.fy = d3.event.y; })\n",
    "\t\t\t\t.on(\"end\", d => { d.fx = null; d.fy = null; })\n",
    "\t\t\t)\n",
    "\t)\n",
    "\t\t.attr('cx', d => d.x)\n",
    "\t\t.attr('cy', d => d.y);\n",
    "}\n",
    "\n",
    "function kickStart() {\n",
    "\t\t\tballs.forEach((ball) => {\n",
    "\t\t\t\tball.x = ball.init.x;\n",
    "\t\t\t\tball.y = ball.init.y;\n",
    "\t\t\t\tball.vx = ball.init.vx;\n",
    "\t\t\t\tball.vy = ball.init.vy;\n",
    "\t\t\t});\n",
    "}\n",
    "\n",
    "\n",
    "  </script>\n",
    "</html>"
   ]
  },
  {
   "cell_type": "code",
   "execution_count": 12,
   "metadata": {
    "slideshow": {
     "slide_type": "subslide"
    }
   },
   "outputs": [
    {
     "data": {
      "text/html": [
       "\n",
       "        <iframe\n",
       "            width=\"500\"\n",
       "            height=\"500\"\n",
       "            src=\"myFile.html\"\n",
       "            frameborder=\"0\"\n",
       "            allowfullscreen\n",
       "        ></iframe>\n",
       "        "
      ],
      "text/plain": [
       "<IPython.lib.display.IFrame at 0x110879b38>"
      ]
     },
     "execution_count": 12,
     "metadata": {},
     "output_type": "execute_result"
    }
   ],
   "source": [
    "IFrame('myFile.html',500,500)"
   ]
  },
  {
   "cell_type": "markdown",
   "metadata": {
    "slideshow": {
     "slide_type": "slide"
    }
   },
   "source": [
    "### Call to Action\n",
    "\n",
    "What can you do?\n"
   ]
  },
  {
   "cell_type": "markdown",
   "metadata": {
    "slideshow": {
     "slide_type": "fragment"
    }
   },
   "source": [
    "1. Use notebooks yourself.   http://intro.syzygy.ca\n"
   ]
  },
  {
   "cell_type": "markdown",
   "metadata": {
    "slideshow": {
     "slide_type": "fragment"
    }
   },
   "source": [
    "2. Get teachers to use it.  https://hub.callysto.ca"
   ]
  },
  {
   "cell_type": "markdown",
   "metadata": {
    "slideshow": {
     "slide_type": "fragment"
    }
   },
   "source": [
    "3. Develop and share notebooks with others. "
   ]
  },
  {
   "cell_type": "markdown",
   "metadata": {
    "slideshow": {
     "slide_type": "slide"
    }
   },
   "source": [
    "### <center> Thank you! </center>\n"
   ]
  }
 ],
 "metadata": {
  "celltoolbar": "Slideshow",
  "kernelspec": {
   "display_name": "Python 3",
   "language": "python",
   "name": "python3"
  },
  "language_info": {
   "codemirror_mode": {
    "name": "ipython",
    "version": 3
   },
   "file_extension": ".py",
   "mimetype": "text/x-python",
   "name": "python",
   "nbconvert_exporter": "python",
   "pygments_lexer": "ipython3",
   "version": "3.6.7"
  },
  "livereveal": {
   "autolaunch": false,
   "backimage": "CMSbackground2.png",
   "footer": "<h3>Callysto Project</h3>",
   "header": "<h1>..</h1>",
   "scroll": true
  }
 },
 "nbformat": 4,
 "nbformat_minor": 2
}
